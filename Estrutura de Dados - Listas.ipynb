{
 "cells": [
  {
   "cell_type": "markdown",
   "id": "1c6a0837",
   "metadata": {},
   "source": [
    "## 1. Como criar listas"
   ]
  },
  {
   "cell_type": "code",
   "execution_count": 14,
   "id": "841fb4af-c64d-49c0-b44d-32627832c27b",
   "metadata": {},
   "outputs": [],
   "source": [
    "# Criando lista vazia\n",
    "lista_vazia = []\n",
    "#ou\n",
    "lista_vazia2 = list()"
   ]
  },
  {
   "cell_type": "code",
   "execution_count": 20,
   "id": "342ad142",
   "metadata": {},
   "outputs": [
    {
     "data": {
      "text/plain": [
       "list"
      ]
     },
     "execution_count": 20,
     "metadata": {},
     "output_type": "execute_result"
    }
   ],
   "source": [
    "# Verificando tipo da lista\n",
    "type(lista_vazia)\n",
    "type(lista_vazia2)"
   ]
  },
  {
   "cell_type": "code",
   "execution_count": 22,
   "id": "9a26ec02",
   "metadata": {},
   "outputs": [
    {
     "name": "stdout",
     "output_type": "stream",
     "text": [
      "0\n",
      "0\n"
     ]
    }
   ],
   "source": [
    "# Verificando tamanho da lista\n",
    "print(len(lista_vazia))\n",
    "print(len(lista_vazia2))"
   ]
  },
  {
   "cell_type": "code",
   "execution_count": 23,
   "id": "34119b2e",
   "metadata": {},
   "outputs": [],
   "source": [
    "# Criando listas com elementos\n",
    "lista = [23, 56, 2, -3, 10, 2, 18, 0, 5]\n",
    "lista_reais = [1.5, -2.13, 5.14]\n",
    "lista_strings = [\"Anne\", \"Python\", \"Power BI\", \"Ciência de Dados e Big Data\"]\n",
    "lista_booleanos = [True, True, False, True]\n",
    "lista_misturada = [1, 2, 3.14159, \"teste\"]\n",
    "lista_misturada2 = [1, 2, 3.14159, \"teste\", [1, \"A\", 1.0]]\n",
    "lista_aninhadas = [[1, 2, 3], [4, 5, 6], [7, 8, 9]]"
   ]
  },
  {
   "cell_type": "markdown",
   "id": "0e6a9f8a",
   "metadata": {},
   "source": [
    "## 2. Como acessar listas"
   ]
  },
  {
   "cell_type": "code",
   "execution_count": 24,
   "id": "ec7ce95a",
   "metadata": {},
   "outputs": [
    {
     "data": {
      "text/plain": [
       "[23, 56, 2, -3, 10, 2, 18, 0, 5]"
      ]
     },
     "execution_count": 24,
     "metadata": {},
     "output_type": "execute_result"
    }
   ],
   "source": [
    "lista"
   ]
  },
  {
   "cell_type": "code",
   "execution_count": 25,
   "id": "c32db0c3",
   "metadata": {},
   "outputs": [
    {
     "data": {
      "text/plain": [
       "23"
      ]
     },
     "execution_count": 25,
     "metadata": {},
     "output_type": "execute_result"
    }
   ],
   "source": [
    "# Acessando índice 0 (primeira posição)\n",
    "lista[0]"
   ]
  },
  {
   "cell_type": "code",
   "execution_count": 26,
   "id": "2101d21f",
   "metadata": {},
   "outputs": [
    {
     "data": {
      "text/plain": [
       "['Anne', 'Python', 'Power BI', 'Ciência de Dados e Big Data']"
      ]
     },
     "execution_count": 26,
     "metadata": {},
     "output_type": "execute_result"
    }
   ],
   "source": [
    "lista_strings"
   ]
  },
  {
   "cell_type": "code",
   "execution_count": 27,
   "id": "f59de25d",
   "metadata": {},
   "outputs": [
    {
     "data": {
      "text/plain": [
       "'Ciência de Dados e Big Data'"
      ]
     },
     "execution_count": 27,
     "metadata": {},
     "output_type": "execute_result"
    }
   ],
   "source": [
    "lista_strings[3]"
   ]
  },
  {
   "cell_type": "code",
   "execution_count": 28,
   "id": "fc3cb2ea",
   "metadata": {},
   "outputs": [
    {
     "data": {
      "text/plain": [
       "[1, 2, 3.14159, 'teste']"
      ]
     },
     "execution_count": 28,
     "metadata": {},
     "output_type": "execute_result"
    }
   ],
   "source": [
    "lista_misturada"
   ]
  },
  {
   "cell_type": "code",
   "execution_count": 29,
   "id": "0f8ac254",
   "metadata": {},
   "outputs": [
    {
     "data": {
      "text/plain": [
       "'teste'"
      ]
     },
     "execution_count": 29,
     "metadata": {},
     "output_type": "execute_result"
    }
   ],
   "source": [
    "lista_misturada[3]"
   ]
  },
  {
   "cell_type": "code",
   "execution_count": 30,
   "id": "ec6f0351",
   "metadata": {},
   "outputs": [
    {
     "data": {
      "text/plain": [
       "[1, 2, 3.14159, 'teste', [1, 'A', 1.0]]"
      ]
     },
     "execution_count": 30,
     "metadata": {},
     "output_type": "execute_result"
    }
   ],
   "source": [
    "lista_misturada2"
   ]
  },
  {
   "cell_type": "code",
   "execution_count": 31,
   "id": "0b8c5648",
   "metadata": {},
   "outputs": [
    {
     "data": {
      "text/plain": [
       "1"
      ]
     },
     "execution_count": 31,
     "metadata": {},
     "output_type": "execute_result"
    }
   ],
   "source": [
    "# Acessando o primeiro elemento ([0]) de uma lista interna, na quinta posição [(4)], da lista_misturada2.\n",
    "lista_misturada2[4][0]"
   ]
  },
  {
   "cell_type": "code",
   "execution_count": 32,
   "id": "4818cd1a",
   "metadata": {},
   "outputs": [
    {
     "ename": "IndexError",
     "evalue": "list index out of range",
     "output_type": "error",
     "traceback": [
      "\u001b[1;31m---------------------------------------------------------------------------\u001b[0m",
      "\u001b[1;31mIndexError\u001b[0m                                Traceback (most recent call last)",
      "\u001b[1;32m<ipython-input-32-7922ddb926d2>\u001b[0m in \u001b[0;36m<module>\u001b[1;34m\u001b[0m\n\u001b[0;32m      1\u001b[0m \u001b[1;31m# Acessando posição inexistente\u001b[0m\u001b[1;33m\u001b[0m\u001b[1;33m\u001b[0m\u001b[1;33m\u001b[0m\u001b[0m\n\u001b[1;32m----> 2\u001b[1;33m \u001b[0mlista_misturada2\u001b[0m\u001b[1;33m[\u001b[0m\u001b[1;36m20\u001b[0m\u001b[1;33m]\u001b[0m\u001b[1;33m\u001b[0m\u001b[1;33m\u001b[0m\u001b[0m\n\u001b[0m",
      "\u001b[1;31mIndexError\u001b[0m: list index out of range"
     ]
    }
   ],
   "source": [
    "# Acessando posição inexistente\n",
    "lista_misturada2[20]"
   ]
  },
  {
   "cell_type": "markdown",
   "id": "94ff9f29",
   "metadata": {},
   "source": [
    "## 3. Como modificar elementos de uma lista"
   ]
  },
  {
   "cell_type": "code",
   "execution_count": 33,
   "id": "b3d52cf4",
   "metadata": {},
   "outputs": [
    {
     "data": {
      "text/plain": [
       "[23, 56, 2, -3, 10, 2, 18, 0, 5]"
      ]
     },
     "execution_count": 33,
     "metadata": {},
     "output_type": "execute_result"
    }
   ],
   "source": [
    "lista"
   ]
  },
  {
   "cell_type": "code",
   "execution_count": 34,
   "id": "d7971c91",
   "metadata": {},
   "outputs": [
    {
     "data": {
      "text/plain": [
       "[23, 18, 2, -3, 10, 2, 18, 0, 5]"
      ]
     },
     "execution_count": 34,
     "metadata": {},
     "output_type": "execute_result"
    }
   ],
   "source": [
    "lista[1] = 18\n",
    "lista"
   ]
  },
  {
   "cell_type": "code",
   "execution_count": 35,
   "id": "61971bc5",
   "metadata": {},
   "outputs": [
    {
     "data": {
      "text/plain": [
       "[23, 18, 2, 15, 10, 2, 18, 0, 5]"
      ]
     },
     "execution_count": 35,
     "metadata": {},
     "output_type": "execute_result"
    }
   ],
   "source": [
    "lista[3] = 15\n",
    "lista"
   ]
  },
  {
   "cell_type": "code",
   "execution_count": 36,
   "id": "ea841782",
   "metadata": {},
   "outputs": [
    {
     "data": {
      "text/plain": [
       "[23, 18, 41, 15, 10, 2, 18, 0, 5]"
      ]
     },
     "execution_count": 36,
     "metadata": {},
     "output_type": "execute_result"
    }
   ],
   "source": [
    "# Atribuindo ao índice 2 a soma de dois índices\n",
    "lista[2] = lista[0] + lista[1]\n",
    "lista"
   ]
  },
  {
   "cell_type": "markdown",
   "id": "216d063a",
   "metadata": {},
   "source": [
    "## 4. Principais métodos de uma lista"
   ]
  },
  {
   "cell_type": "markdown",
   "id": "9db96f09",
   "metadata": {},
   "source": [
    "#### 4.1 - append()"
   ]
  },
  {
   "cell_type": "code",
   "execution_count": 37,
   "id": "96795cb1",
   "metadata": {},
   "outputs": [
    {
     "data": {
      "text/plain": [
       "[23, 18, 41, 15, 10, 2, 18, 0, 5]"
      ]
     },
     "execution_count": 37,
     "metadata": {},
     "output_type": "execute_result"
    }
   ],
   "source": [
    "lista"
   ]
  },
  {
   "cell_type": "code",
   "execution_count": 38,
   "id": "5ae43193",
   "metadata": {},
   "outputs": [
    {
     "data": {
      "text/plain": [
       "[23, 18, 41, 15, 10, 2, 18, 0, 5, 17]"
      ]
     },
     "execution_count": 38,
     "metadata": {},
     "output_type": "execute_result"
    }
   ],
   "source": [
    "# Este método adiciona um elemento ao FINAL da lista\n",
    "lista.append(17)\n",
    "lista"
   ]
  },
  {
   "cell_type": "markdown",
   "id": "d200c529",
   "metadata": {},
   "source": [
    "#### 4.2 - clear()"
   ]
  },
  {
   "cell_type": "code",
   "execution_count": 39,
   "id": "08e0d82b",
   "metadata": {},
   "outputs": [
    {
     "data": {
      "text/plain": [
       "[1.5, -2.13, 5.14]"
      ]
     },
     "execution_count": 39,
     "metadata": {},
     "output_type": "execute_result"
    }
   ],
   "source": [
    "lista_reais"
   ]
  },
  {
   "cell_type": "code",
   "execution_count": 40,
   "id": "5eb8ae75",
   "metadata": {},
   "outputs": [
    {
     "data": {
      "text/plain": [
       "[]"
      ]
     },
     "execution_count": 40,
     "metadata": {},
     "output_type": "execute_result"
    }
   ],
   "source": [
    "# Este método remove todos os elementos da lista\n",
    "lista_reais.clear()\n",
    "lista_reais"
   ]
  },
  {
   "cell_type": "markdown",
   "id": "69b3b5cd",
   "metadata": {},
   "source": [
    "#### 4.3 - copy()"
   ]
  },
  {
   "cell_type": "code",
   "execution_count": 41,
   "id": "891d35a2",
   "metadata": {},
   "outputs": [
    {
     "data": {
      "text/plain": [
       "[23, 18, 41, 15, 10, 2, 18, 0, 5, 17]"
      ]
     },
     "execution_count": 41,
     "metadata": {},
     "output_type": "execute_result"
    }
   ],
   "source": [
    "lista"
   ]
  },
  {
   "cell_type": "code",
   "execution_count": 42,
   "id": "9e20aec3",
   "metadata": {},
   "outputs": [
    {
     "data": {
      "text/plain": [
       "[23, 18, 41, 15, 10, 2, 18, 0, 5, 17]"
      ]
     },
     "execution_count": 42,
     "metadata": {},
     "output_type": "execute_result"
    }
   ],
   "source": [
    "# Este método copia uma lista para outra\n",
    "copia = lista.copy()\n",
    "copia"
   ]
  },
  {
   "cell_type": "code",
   "execution_count": 43,
   "id": "4ff06217",
   "metadata": {},
   "outputs": [
    {
     "data": {
      "text/plain": [
       "[5, 18, 41, 15, 10, 2, 18, 0, 5, 17]"
      ]
     },
     "execution_count": 43,
     "metadata": {},
     "output_type": "execute_result"
    }
   ],
   "source": [
    "copia[0] = 5\n",
    "copia"
   ]
  },
  {
   "cell_type": "markdown",
   "id": "4e1fbe72",
   "metadata": {},
   "source": [
    "#### 4.4 - count()"
   ]
  },
  {
   "cell_type": "code",
   "execution_count": 44,
   "id": "c985dfcb",
   "metadata": {},
   "outputs": [
    {
     "data": {
      "text/plain": [
       "2"
      ]
     },
     "execution_count": 44,
     "metadata": {},
     "output_type": "execute_result"
    }
   ],
   "source": [
    "# Este método contabiliza a quantidade de ocorrências, numa lista, do elemento informado entre parênteses\n",
    "copia.count(5)"
   ]
  },
  {
   "cell_type": "markdown",
   "id": "d77bb73e",
   "metadata": {},
   "source": [
    "#### 4.5 - extend()"
   ]
  },
  {
   "cell_type": "code",
   "execution_count": 45,
   "id": "f0fdcaf2",
   "metadata": {},
   "outputs": [
    {
     "data": {
      "text/plain": [
       "[1, 2, 3, 4, 5]"
      ]
     },
     "execution_count": 45,
     "metadata": {},
     "output_type": "execute_result"
    }
   ],
   "source": [
    "# Este método adiciona elementos de uma lista em outra lista\n",
    "numeros = [1, 2, 3]\n",
    "numeros.extend([4, 5])\n",
    "numeros"
   ]
  },
  {
   "cell_type": "markdown",
   "id": "7eb1a3e2",
   "metadata": {},
   "source": [
    "#### 4.6 - index()"
   ]
  },
  {
   "cell_type": "code",
   "execution_count": 50,
   "id": "54fee683",
   "metadata": {},
   "outputs": [],
   "source": [
    "lista = [1, 3, 7, 2, 3, 8, 4]"
   ]
  },
  {
   "cell_type": "code",
   "execution_count": 51,
   "id": "52c2ab97",
   "metadata": {},
   "outputs": [
    {
     "data": {
      "text/plain": [
       "1"
      ]
     },
     "execution_count": 51,
     "metadata": {},
     "output_type": "execute_result"
    }
   ],
   "source": [
    "# Este método retorna em qual posição se encontra o elemento informado\n",
    "# Se o elemento estiver duplicado em uma lista, é retornado somente o primeiro índice do mesmo\n",
    "lista.index(3)"
   ]
  },
  {
   "cell_type": "code",
   "execution_count": 52,
   "id": "ad115a57",
   "metadata": {},
   "outputs": [
    {
     "data": {
      "text/plain": [
       "5"
      ]
     },
     "execution_count": 52,
     "metadata": {},
     "output_type": "execute_result"
    }
   ],
   "source": [
    "lista.index(8)"
   ]
  },
  {
   "cell_type": "code",
   "execution_count": 53,
   "id": "e406a4c5",
   "metadata": {},
   "outputs": [
    {
     "ename": "ValueError",
     "evalue": "19 is not in list",
     "output_type": "error",
     "traceback": [
      "\u001b[1;31m---------------------------------------------------------------------------\u001b[0m",
      "\u001b[1;31mValueError\u001b[0m                                Traceback (most recent call last)",
      "\u001b[1;32m<ipython-input-53-1ca3ca6d5b05>\u001b[0m in \u001b[0;36m<module>\u001b[1;34m\u001b[0m\n\u001b[0;32m      1\u001b[0m \u001b[1;31m# Caso o elemento não exista, retorna um erro\u001b[0m\u001b[1;33m\u001b[0m\u001b[1;33m\u001b[0m\u001b[1;33m\u001b[0m\u001b[0m\n\u001b[1;32m----> 2\u001b[1;33m \u001b[0mlista\u001b[0m\u001b[1;33m.\u001b[0m\u001b[0mindex\u001b[0m\u001b[1;33m(\u001b[0m\u001b[1;36m19\u001b[0m\u001b[1;33m)\u001b[0m\u001b[1;33m\u001b[0m\u001b[1;33m\u001b[0m\u001b[0m\n\u001b[0m",
      "\u001b[1;31mValueError\u001b[0m: 19 is not in list"
     ]
    }
   ],
   "source": [
    "# Caso o elemento não exista, retorna um erro\n",
    "lista.index(19)"
   ]
  },
  {
   "cell_type": "markdown",
   "id": "461210f5",
   "metadata": {},
   "source": [
    "#### 4.7 - insert()"
   ]
  },
  {
   "cell_type": "code",
   "execution_count": 54,
   "id": "b1829d98",
   "metadata": {},
   "outputs": [
    {
     "data": {
      "text/plain": [
       "[1, 3, 'ABC', 7, 2, 3, 8, 4]"
      ]
     },
     "execution_count": 54,
     "metadata": {},
     "output_type": "execute_result"
    }
   ],
   "source": [
    "# Ao contrário do append(), o método insert() insere o elemento em qualquer posição de uma lista\n",
    "# Caso a posição não exista, ele insere o elemento na última posição\n",
    "lista.insert(2, 'ABC')\n",
    "lista"
   ]
  },
  {
   "cell_type": "code",
   "execution_count": 55,
   "id": "b74bd18b",
   "metadata": {},
   "outputs": [
    {
     "data": {
      "text/plain": [
       "[1, 3, 'ABC', 7, 2, 3, 8, 4, 'ABC']"
      ]
     },
     "execution_count": 55,
     "metadata": {},
     "output_type": "execute_result"
    }
   ],
   "source": [
    "lista.insert(100, 'ABC')\n",
    "lista"
   ]
  },
  {
   "cell_type": "markdown",
   "id": "e42cc84a",
   "metadata": {},
   "source": [
    "#### 4.8 - pop()"
   ]
  },
  {
   "cell_type": "code",
   "execution_count": 56,
   "id": "4d6a2289",
   "metadata": {},
   "outputs": [
    {
     "data": {
      "text/plain": [
       "'ABC'"
      ]
     },
     "execution_count": 56,
     "metadata": {},
     "output_type": "execute_result"
    }
   ],
   "source": [
    "# Neste método, passamos o parâmetro do índice que deve ser removido\n",
    "# A variável \"value\" retornará o valor removido\n",
    "value = lista.pop(2)\n",
    "value"
   ]
  },
  {
   "cell_type": "code",
   "execution_count": 57,
   "id": "0b995777",
   "metadata": {},
   "outputs": [
    {
     "data": {
      "text/plain": [
       "[1, 3, 7, 2, 3, 8, 4, 'ABC']"
      ]
     },
     "execution_count": 57,
     "metadata": {},
     "output_type": "execute_result"
    }
   ],
   "source": [
    "lista"
   ]
  },
  {
   "cell_type": "code",
   "execution_count": 58,
   "id": "89ce8d01",
   "metadata": {},
   "outputs": [
    {
     "data": {
      "text/plain": [
       "[1, 3, 7, 2, 3, 8, 4]"
      ]
     },
     "execution_count": 58,
     "metadata": {},
     "output_type": "execute_result"
    }
   ],
   "source": [
    "# Removendo o elemento da ÚLTIMA posição\n",
    "lista.pop(-1)\n",
    "lista"
   ]
  },
  {
   "cell_type": "code",
   "execution_count": 59,
   "id": "9a90fda0",
   "metadata": {},
   "outputs": [
    {
     "ename": "IndexError",
     "evalue": "pop index out of range",
     "output_type": "error",
     "traceback": [
      "\u001b[1;31m---------------------------------------------------------------------------\u001b[0m",
      "\u001b[1;31mIndexError\u001b[0m                                Traceback (most recent call last)",
      "\u001b[1;32m<ipython-input-59-ef5d2bbd56e4>\u001b[0m in \u001b[0;36m<module>\u001b[1;34m\u001b[0m\n\u001b[0;32m      1\u001b[0m \u001b[1;31m# Caso a posição não exista, retorna erro\u001b[0m\u001b[1;33m\u001b[0m\u001b[1;33m\u001b[0m\u001b[1;33m\u001b[0m\u001b[0m\n\u001b[1;32m----> 2\u001b[1;33m \u001b[0mlista\u001b[0m\u001b[1;33m.\u001b[0m\u001b[0mpop\u001b[0m\u001b[1;33m(\u001b[0m\u001b[1;36m45\u001b[0m\u001b[1;33m)\u001b[0m\u001b[1;33m\u001b[0m\u001b[1;33m\u001b[0m\u001b[0m\n\u001b[0m",
      "\u001b[1;31mIndexError\u001b[0m: pop index out of range"
     ]
    }
   ],
   "source": [
    "# Caso a posição não exista, retorna erro\n",
    "lista.pop(45)"
   ]
  },
  {
   "cell_type": "markdown",
   "id": "cc3e1370",
   "metadata": {},
   "source": [
    "#### 4.9 - remove()"
   ]
  },
  {
   "cell_type": "code",
   "execution_count": 60,
   "id": "c2ef5491",
   "metadata": {},
   "outputs": [
    {
     "data": {
      "text/plain": [
       "['Anne', 'Python', 'Power BI', 'Ciência de Dados e Big Data']"
      ]
     },
     "execution_count": 60,
     "metadata": {},
     "output_type": "execute_result"
    }
   ],
   "source": [
    "# Ao contrário do pop(), o método remove() exclui o valor indicado no parâmetro\n",
    "lista_strings"
   ]
  },
  {
   "cell_type": "code",
   "execution_count": 62,
   "id": "fbee3596",
   "metadata": {},
   "outputs": [
    {
     "data": {
      "text/plain": [
       "['Python', 'Power BI', 'Ciência de Dados e Big Data']"
      ]
     },
     "execution_count": 62,
     "metadata": {},
     "output_type": "execute_result"
    }
   ],
   "source": [
    "lista_strings.remove(\"Anne\")\n",
    "lista_strings"
   ]
  },
  {
   "cell_type": "markdown",
   "id": "6f257b14",
   "metadata": {},
   "source": [
    "#### 5.0 - reverse()"
   ]
  },
  {
   "cell_type": "code",
   "execution_count": 63,
   "id": "b8971f07",
   "metadata": {},
   "outputs": [
    {
     "data": {
      "text/plain": [
       "[1, 2, 3, 4, 5, 6]"
      ]
     },
     "execution_count": 63,
     "metadata": {},
     "output_type": "execute_result"
    }
   ],
   "source": [
    "# O reverse() é utilizado quando precisamos REVERTER os elementos de uma lista\n",
    "lista = [1, 2, 3, 4, 5, 6]\n",
    "lista"
   ]
  },
  {
   "cell_type": "code",
   "execution_count": 64,
   "id": "bdca13f8",
   "metadata": {},
   "outputs": [
    {
     "data": {
      "text/plain": [
       "[6, 5, 4, 3, 2, 1]"
      ]
     },
     "execution_count": 64,
     "metadata": {},
     "output_type": "execute_result"
    }
   ],
   "source": [
    "lista.reverse()\n",
    "lista"
   ]
  },
  {
   "cell_type": "markdown",
   "id": "9f6680e0",
   "metadata": {},
   "source": [
    "#### 5.1 - sort()"
   ]
  },
  {
   "cell_type": "code",
   "execution_count": 65,
   "id": "2937c7b6",
   "metadata": {},
   "outputs": [
    {
     "data": {
      "text/plain": [
       "[6, 2, 1, 5, 4, 3]"
      ]
     },
     "execution_count": 65,
     "metadata": {},
     "output_type": "execute_result"
    }
   ],
   "source": [
    "# O sort() é utilizado para ORDENAR, em ordem CRESCENTE, os elementos de uma lista\n",
    "lista = [6, 2, 1, 5, 4, 3]\n",
    "lista"
   ]
  },
  {
   "cell_type": "code",
   "execution_count": 66,
   "id": "428c13af",
   "metadata": {},
   "outputs": [
    {
     "data": {
      "text/plain": [
       "[1, 2, 3, 4, 5, 6]"
      ]
     },
     "execution_count": 66,
     "metadata": {},
     "output_type": "execute_result"
    }
   ],
   "source": [
    "lista.sort()\n",
    "lista"
   ]
  },
  {
   "cell_type": "code",
   "execution_count": 67,
   "id": "b6abb1b4",
   "metadata": {},
   "outputs": [
    {
     "data": {
      "text/plain": [
       "[6, 2, 1, 5, 4, 3]"
      ]
     },
     "execution_count": 67,
     "metadata": {},
     "output_type": "execute_result"
    }
   ],
   "source": [
    "# Também pode ser utilizado para ordenar em ordem descresente\n",
    "lista = [6, 2, 1, 5, 4, 3]\n",
    "lista"
   ]
  },
  {
   "cell_type": "code",
   "execution_count": 68,
   "id": "3e4c3cbe",
   "metadata": {},
   "outputs": [
    {
     "data": {
      "text/plain": [
       "[6, 5, 4, 3, 2, 1]"
      ]
     },
     "execution_count": 68,
     "metadata": {},
     "output_type": "execute_result"
    }
   ],
   "source": [
    "lista.sort(reverse = True)\n",
    "lista"
   ]
  },
  {
   "cell_type": "code",
   "execution_count": 69,
   "id": "fa31f4b8",
   "metadata": {},
   "outputs": [
    {
     "data": {
      "text/plain": [
       "['Q', 'W', 'E', 'R', 'T', 'Y', 'A', 'S', 'D']"
      ]
     },
     "execution_count": 69,
     "metadata": {},
     "output_type": "execute_result"
    }
   ],
   "source": [
    "# O Python também permite a ordenação de uma lista de strings\n",
    "lista_letras = ['Q', 'W', 'E', 'R', 'T', 'Y', 'A', 'S', 'D']\n",
    "lista_letras"
   ]
  },
  {
   "cell_type": "code",
   "execution_count": 70,
   "id": "2020549d",
   "metadata": {},
   "outputs": [
    {
     "data": {
      "text/plain": [
       "['A', 'D', 'E', 'Q', 'R', 'S', 'T', 'W', 'Y']"
      ]
     },
     "execution_count": 70,
     "metadata": {},
     "output_type": "execute_result"
    }
   ],
   "source": [
    "lista_letras.sort()\n",
    "lista_letras"
   ]
  },
  {
   "cell_type": "code",
   "execution_count": 71,
   "id": "b7419f33",
   "metadata": {},
   "outputs": [
    {
     "data": {
      "text/plain": [
       "['GHI', 'XYZ', 'DEF', 'ABC', 'KLM']"
      ]
     },
     "execution_count": 71,
     "metadata": {},
     "output_type": "execute_result"
    }
   ],
   "source": [
    "lista_strings = [\"GHI\", \"XYZ\", \"DEF\", \"ABC\", \"KLM\"]\n",
    "lista_strings"
   ]
  },
  {
   "cell_type": "code",
   "execution_count": 72,
   "id": "8d77d577",
   "metadata": {},
   "outputs": [
    {
     "data": {
      "text/plain": [
       "['ABC', 'DEF', 'GHI', 'KLM', 'XYZ']"
      ]
     },
     "execution_count": 72,
     "metadata": {},
     "output_type": "execute_result"
    }
   ],
   "source": [
    "lista_strings.sort()\n",
    "lista_strings"
   ]
  },
  {
   "cell_type": "code",
   "execution_count": 73,
   "id": "f7a74d09",
   "metadata": {},
   "outputs": [
    {
     "ename": "TypeError",
     "evalue": "'<' not supported between instances of 'str' and 'int'",
     "output_type": "error",
     "traceback": [
      "\u001b[1;31m---------------------------------------------------------------------------\u001b[0m",
      "\u001b[1;31mTypeError\u001b[0m                                 Traceback (most recent call last)",
      "\u001b[1;32m<ipython-input-73-03cbccddc67a>\u001b[0m in \u001b[0;36m<module>\u001b[1;34m\u001b[0m\n\u001b[0;32m      1\u001b[0m \u001b[1;31m# Não é possível ordenar uma lista de diferentes tipos\u001b[0m\u001b[1;33m\u001b[0m\u001b[1;33m\u001b[0m\u001b[1;33m\u001b[0m\u001b[0m\n\u001b[0;32m      2\u001b[0m \u001b[0mlista_misturada\u001b[0m \u001b[1;33m=\u001b[0m \u001b[1;33m[\u001b[0m\u001b[1;36m2\u001b[0m\u001b[1;33m,\u001b[0m \u001b[1;34m'ABC'\u001b[0m\u001b[1;33m,\u001b[0m \u001b[1;36m3.14\u001b[0m\u001b[1;33m]\u001b[0m\u001b[1;33m\u001b[0m\u001b[1;33m\u001b[0m\u001b[0m\n\u001b[1;32m----> 3\u001b[1;33m \u001b[0mlista_misturada\u001b[0m\u001b[1;33m.\u001b[0m\u001b[0msort\u001b[0m\u001b[1;33m(\u001b[0m\u001b[1;33m)\u001b[0m\u001b[1;33m\u001b[0m\u001b[1;33m\u001b[0m\u001b[0m\n\u001b[0m\u001b[0;32m      4\u001b[0m \u001b[0mlista_misturada\u001b[0m\u001b[1;33m\u001b[0m\u001b[1;33m\u001b[0m\u001b[0m\n",
      "\u001b[1;31mTypeError\u001b[0m: '<' not supported between instances of 'str' and 'int'"
     ]
    }
   ],
   "source": [
    "# Não é possível ordenar uma lista de diferentes tipos\n",
    "lista_misturada = [2, 'ABC', 3.14]\n",
    "lista_misturada.sort()\n",
    "lista_misturada"
   ]
  },
  {
   "cell_type": "markdown",
   "id": "d978f1bb",
   "metadata": {},
   "source": [
    "## 5. Funções aplicáveis a uma lista"
   ]
  },
  {
   "cell_type": "code",
   "execution_count": 74,
   "id": "1ce35637",
   "metadata": {},
   "outputs": [],
   "source": [
    "lista = [8, 3, 21, 14, 2, 45]\n",
    "lista_letras = ['Q', 'W', 'E', 'R', 'T', 'Y', 'A', 'S', 'D']"
   ]
  },
  {
   "cell_type": "code",
   "execution_count": 75,
   "id": "23f1d23a",
   "metadata": {},
   "outputs": [
    {
     "name": "stdout",
     "output_type": "stream",
     "text": [
      "6\n",
      "9\n"
     ]
    }
   ],
   "source": [
    "# len(): método que retorna o tamanho de uma lista\n",
    "print(len(lista))\n",
    "print(len(lista_letras))"
   ]
  },
  {
   "cell_type": "code",
   "execution_count": 76,
   "id": "f7461a85",
   "metadata": {},
   "outputs": [
    {
     "name": "stdout",
     "output_type": "stream",
     "text": [
      "45\n",
      "Y\n"
     ]
    }
   ],
   "source": [
    "# max(): método que retorna o valor máximo de uma lista\n",
    "print(max(lista))\n",
    "print(max(lista_letras))"
   ]
  },
  {
   "cell_type": "code",
   "execution_count": 77,
   "id": "7524269a",
   "metadata": {},
   "outputs": [
    {
     "name": "stdout",
     "output_type": "stream",
     "text": [
      "2\n",
      "A\n"
     ]
    }
   ],
   "source": [
    "# min(): método que retorna o menor elemento de uma lista\n",
    "print(min(lista))\n",
    "print(min(lista_letras))"
   ]
  },
  {
   "cell_type": "code",
   "execution_count": 78,
   "id": "ec3723da",
   "metadata": {},
   "outputs": [
    {
     "data": {
      "text/plain": [
       "93"
      ]
     },
     "execution_count": 78,
     "metadata": {},
     "output_type": "execute_result"
    }
   ],
   "source": [
    "# sum(): método que retorna a soma de uma lista\n",
    "sum(lista)"
   ]
  }
 ],
 "metadata": {
  "kernelspec": {
   "display_name": "Python 3",
   "language": "python",
   "name": "python3"
  },
  "language_info": {
   "codemirror_mode": {
    "name": "ipython",
    "version": 3
   },
   "file_extension": ".py",
   "mimetype": "text/x-python",
   "name": "python",
   "nbconvert_exporter": "python",
   "pygments_lexer": "ipython3",
   "version": "3.8.8"
  }
 },
 "nbformat": 4,
 "nbformat_minor": 5
}
