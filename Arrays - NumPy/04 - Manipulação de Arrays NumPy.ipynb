{
 "cells": [
  {
   "cell_type": "markdown",
   "metadata": {},
   "source": [
    "# Manipulação de arrays Numpy"
   ]
  },
  {
   "cell_type": "markdown",
   "metadata": {},
   "source": [
    "### Importando o NumPy"
   ]
  },
  {
   "cell_type": "code",
   "execution_count": 1,
   "metadata": {},
   "outputs": [],
   "source": [
    "# Importando o NumPy\n",
    "import numpy as np"
   ]
  },
  {
   "cell_type": "markdown",
   "metadata": {},
   "source": [
    "### Alterando, adicionando e removendo elementos"
   ]
  },
  {
   "cell_type": "code",
   "execution_count": 2,
   "metadata": {},
   "outputs": [
    {
     "data": {
      "text/plain": [
       "array([ 54,  32, 130,  27, 198,  63,  64,  52, 182, 108, 146,  95])"
      ]
     },
     "execution_count": 2,
     "metadata": {},
     "output_type": "execute_result"
    }
   ],
   "source": [
    "# Criando um array de 1 dimensão\n",
    "a1D = np.random.randint(1,200, 12)\n",
    "a1D"
   ]
  },
  {
   "cell_type": "code",
   "execution_count": 3,
   "metadata": {},
   "outputs": [
    {
     "data": {
      "text/plain": [
       "array([[123, 133,  64, 168],\n",
       "       [ 58,   1,   9, 186],\n",
       "       [187, 198,  39,  62]])"
      ]
     },
     "execution_count": 3,
     "metadata": {},
     "output_type": "execute_result"
    }
   ],
   "source": [
    "# Criando um array de 2 dimensões\n",
    "a2D = np.random.randint(1,200, (3,4))\n",
    "a2D"
   ]
  },
  {
   "cell_type": "code",
   "execution_count": 4,
   "metadata": {},
   "outputs": [
    {
     "data": {
      "text/plain": [
       "array([[[ 82, 161,  97, 197, 170, 101],\n",
       "        [149,  10, 193,  54, 182, 173],\n",
       "        [ 46,  59, 170,  24, 110,  25]],\n",
       "\n",
       "       [[178,  90, 153,  66,  81,  83],\n",
       "        [ 10, 175, 178,  73, 118, 174],\n",
       "        [ 60,  88, 157,  43,   2,  49]]])"
      ]
     },
     "execution_count": 4,
     "metadata": {},
     "output_type": "execute_result"
    }
   ],
   "source": [
    "# Criando um array de 3 dimensões\n",
    "a3D = np.random.randint(1,200, (2,3,6)) # 2 páginas/faces, 3 linhas, 6 colunas\n",
    "a3D"
   ]
  },
  {
   "cell_type": "code",
   "execution_count": 5,
   "metadata": {},
   "outputs": [
    {
     "data": {
      "text/plain": [
       "array([ -1,  32, 130,  27, 198,  63,  64,  52, 182, 108, 146,  95])"
      ]
     },
     "execution_count": 5,
     "metadata": {},
     "output_type": "execute_result"
    }
   ],
   "source": [
    "# Alterando o elemento do índice 0\n",
    "a1D[0] = -1\n",
    "a1D"
   ]
  },
  {
   "cell_type": "code",
   "execution_count": 6,
   "metadata": {},
   "outputs": [
    {
     "data": {
      "text/plain": [
       "array([[123, 133,  64, 168],\n",
       "       [ 58,   1,  -1, 186],\n",
       "       [187, 198,  39,  62]])"
      ]
     },
     "execution_count": 6,
     "metadata": {},
     "output_type": "execute_result"
    }
   ],
   "source": [
    "# Alterando o elemento da linha 1, coluna 2\n",
    "a2D[1][2] = -1\n",
    "a2D"
   ]
  },
  {
   "cell_type": "code",
   "execution_count": 7,
   "metadata": {},
   "outputs": [
    {
     "data": {
      "text/plain": [
       "array([[[ 82, 161,  97, 197, 170, 101],\n",
       "        [149,  10, 193,  54, 182, 173],\n",
       "        [ 46,  59, 170,  24, 110,  25]],\n",
       "\n",
       "       [[178,  90, 153,  66,  81,  83],\n",
       "        [ 10, 175, 178,  73, 118, 174],\n",
       "        [ 60,  88, 157,  43,  -1,  49]]])"
      ]
     },
     "execution_count": 7,
     "metadata": {},
     "output_type": "execute_result"
    }
   ],
   "source": [
    "# Alterando o elemento da face 1, linha 2, coluna 4\n",
    "a3D[1][2][4] = -1\n",
    "a3D"
   ]
  },
  {
   "cell_type": "code",
   "execution_count": 8,
   "metadata": {},
   "outputs": [
    {
     "data": {
      "text/plain": [
       "array([ -1,  32, 130,  27, 198,  63,  64,  52, 182, 108, 146,  95, 100,\n",
       "       130])"
      ]
     },
     "execution_count": 8,
     "metadata": {},
     "output_type": "execute_result"
    }
   ],
   "source": [
    "# Retorna array com elementos adicionados no final\n",
    "a1D_modificado = np.append(a1D, [100, 130])\n",
    "a1D_modificado"
   ]
  },
  {
   "cell_type": "code",
   "execution_count": 9,
   "metadata": {},
   "outputs": [
    {
     "data": {
      "text/plain": [
       "array([ -1,  32, 130,  27, 198,  63,  64,  52, 182, 108, 146,  95])"
      ]
     },
     "execution_count": 9,
     "metadata": {},
     "output_type": "execute_result"
    }
   ],
   "source": [
    "a1D # a1D não foi modificado"
   ]
  },
  {
   "cell_type": "code",
   "execution_count": 10,
   "metadata": {},
   "outputs": [
    {
     "data": {
      "text/plain": [
       "array([123, 133,  64, 168,  58,   1,  -1, 186, 187, 198,  39,  62, 100,\n",
       "       130])"
      ]
     },
     "execution_count": 10,
     "metadata": {},
     "output_type": "execute_result"
    }
   ],
   "source": [
    "a2D_modificado = np.append(a2D, [100, 130]) # Lineariza a2D e insere os elementos no final\n",
    "a2D_modificado"
   ]
  },
  {
   "cell_type": "code",
   "execution_count": 11,
   "metadata": {},
   "outputs": [
    {
     "data": {
      "text/plain": [
       "array([[123, 133,  64, 168],\n",
       "       [ 58,   1,  -1, 186],\n",
       "       [187, 198,  39,  62]])"
      ]
     },
     "execution_count": 11,
     "metadata": {},
     "output_type": "execute_result"
    }
   ],
   "source": [
    "a2D # a2D não foi modificado"
   ]
  },
  {
   "cell_type": "code",
   "execution_count": 12,
   "metadata": {},
   "outputs": [
    {
     "data": {
      "text/plain": [
       "array([ 82, 161,  97, 197, 170, 101, 149,  10, 193,  54, 182, 173,  46,\n",
       "        59, 170,  24, 110,  25, 178,  90, 153,  66,  81,  83,  10, 175,\n",
       "       178,  73, 118, 174,  60,  88, 157,  43,  -1,  49, 100, 130])"
      ]
     },
     "execution_count": 12,
     "metadata": {},
     "output_type": "execute_result"
    }
   ],
   "source": [
    "a3D_modificado = np.append(a3D, [100, 130]) # Lineariza a3D e insere os elementos no final\n",
    "a3D_modificado"
   ]
  },
  {
   "cell_type": "code",
   "execution_count": 13,
   "metadata": {},
   "outputs": [
    {
     "data": {
      "text/plain": [
       "array([[[ 82, 161,  97, 197, 170, 101],\n",
       "        [149,  10, 193,  54, 182, 173],\n",
       "        [ 46,  59, 170,  24, 110,  25]],\n",
       "\n",
       "       [[178,  90, 153,  66,  81,  83],\n",
       "        [ 10, 175, 178,  73, 118, 174],\n",
       "        [ 60,  88, 157,  43,  -1,  49]]])"
      ]
     },
     "execution_count": 13,
     "metadata": {},
     "output_type": "execute_result"
    }
   ],
   "source": [
    "a3D # a3D não foi modificado"
   ]
  },
  {
   "cell_type": "code",
   "execution_count": 14,
   "metadata": {},
   "outputs": [
    {
     "name": "stdout",
     "output_type": "stream",
     "text": [
      "[ -1  32 130  27 198  63  64  52 182 108 146  95 100 130]\n",
      "[130 198  63  64  52 182 108 146  95 100 130]\n"
     ]
    }
   ],
   "source": [
    "a1D_modificado2 = np.delete(a1D_modificado, [0, 1, 3])\n",
    "print(a1D_modificado)\n",
    "print(a1D_modificado2)"
   ]
  },
  {
   "cell_type": "markdown",
   "metadata": {},
   "source": [
    "### Comparação entre arrays"
   ]
  },
  {
   "cell_type": "code",
   "execution_count": 15,
   "metadata": {},
   "outputs": [
    {
     "data": {
      "text/plain": [
       "array([False,  True, False,  True,  True])"
      ]
     },
     "execution_count": 15,
     "metadata": {},
     "output_type": "execute_result"
    }
   ],
   "source": [
    "a1D = np.array([1, 2, 3, 4, 5])\n",
    "b1D = np.array([3, 2, 1, 4, 5])\n",
    "a1D == b1D # Comparação elemento a elemento"
   ]
  },
  {
   "cell_type": "code",
   "execution_count": 16,
   "metadata": {},
   "outputs": [
    {
     "data": {
      "text/plain": [
       "array([5, 1, 5, 5, 8, 8, 1, 2, 9, 3, 1, 1, 1, 9, 9, 1, 8, 9, 9, 4])"
      ]
     },
     "execution_count": 16,
     "metadata": {},
     "output_type": "execute_result"
    }
   ],
   "source": [
    "c1D = np.random.randint(1,10,20)\n",
    "c1D"
   ]
  },
  {
   "cell_type": "code",
   "execution_count": 17,
   "metadata": {},
   "outputs": [
    {
     "data": {
      "text/plain": [
       "array([ True, False,  True,  True, False, False, False, False, False,\n",
       "       False, False, False, False, False, False, False, False, False,\n",
       "       False, False])"
      ]
     },
     "execution_count": 17,
     "metadata": {},
     "output_type": "execute_result"
    }
   ],
   "source": [
    "c1D == 5"
   ]
  },
  {
   "cell_type": "code",
   "execution_count": 18,
   "metadata": {},
   "outputs": [
    {
     "data": {
      "text/plain": [
       "array([5, 5, 5])"
      ]
     },
     "execution_count": 18,
     "metadata": {},
     "output_type": "execute_result"
    }
   ],
   "source": [
    "c1D[c1D == 5]"
   ]
  },
  {
   "cell_type": "markdown",
   "metadata": {},
   "source": [
    "### Operações entre arrays e escalares"
   ]
  },
  {
   "cell_type": "code",
   "execution_count": 19,
   "metadata": {},
   "outputs": [
    {
     "data": {
      "text/plain": [
       "array([ 1,  2,  3,  4,  5,  6,  7,  8,  9, 10])"
      ]
     },
     "execution_count": 19,
     "metadata": {},
     "output_type": "execute_result"
    }
   ],
   "source": [
    "a1D = np.arange(1,11)\n",
    "a1D"
   ]
  },
  {
   "cell_type": "code",
   "execution_count": 20,
   "metadata": {},
   "outputs": [
    {
     "data": {
      "text/plain": [
       "array([ 1,  3,  5,  7,  9, 11, 13, 15, 17, 19])"
      ]
     },
     "execution_count": 20,
     "metadata": {},
     "output_type": "execute_result"
    }
   ],
   "source": [
    "b1D = np.arange(1,20,2)\n",
    "b1D"
   ]
  },
  {
   "cell_type": "code",
   "execution_count": 21,
   "metadata": {},
   "outputs": [
    {
     "data": {
      "text/plain": [
       "array([ 2,  4,  6,  8, 10, 12, 14, 16, 18, 20])"
      ]
     },
     "execution_count": 21,
     "metadata": {},
     "output_type": "execute_result"
    }
   ],
   "source": [
    "c1D = 2 * a1D # Cada elemento de a1D será multiplicado por 2\n",
    "c1D"
   ]
  },
  {
   "cell_type": "code",
   "execution_count": 22,
   "metadata": {},
   "outputs": [
    {
     "data": {
      "text/plain": [
       "array([ 6,  8, 10, 12, 14, 16, 18, 20, 22, 24])"
      ]
     },
     "execution_count": 22,
     "metadata": {},
     "output_type": "execute_result"
    }
   ],
   "source": [
    "d1D = b1D + 5 # Soma 5 para cada elemento de b1D\n",
    "d1D"
   ]
  },
  {
   "cell_type": "code",
   "execution_count": 23,
   "metadata": {},
   "outputs": [
    {
     "data": {
      "text/plain": [
       "array([-2,  0,  2,  4,  6,  8, 10, 12, 14, 16])"
      ]
     },
     "execution_count": 23,
     "metadata": {},
     "output_type": "execute_result"
    }
   ],
   "source": [
    "e1D = b1D - 3\n",
    "e1D"
   ]
  },
  {
   "cell_type": "code",
   "execution_count": 24,
   "metadata": {},
   "outputs": [
    {
     "data": {
      "text/plain": [
       "array([0.2, 0.4, 0.6, 0.8, 1. , 1.2, 1.4, 1.6, 1.8, 2. ])"
      ]
     },
     "execution_count": 24,
     "metadata": {},
     "output_type": "execute_result"
    }
   ],
   "source": [
    "f1D = a1D / 5\n",
    "f1D"
   ]
  },
  {
   "cell_type": "code",
   "execution_count": 25,
   "metadata": {},
   "outputs": [
    {
     "data": {
      "text/plain": [
       "array([-4. , -2.2, -0.4,  1.4,  3.2,  5. ,  6.8,  8.6, 10.4, 12.2, 14. ,\n",
       "       15.8, 17.6, 19.4, 21.2, 23. , 24.8, 26.6, 28.4, 30.2, 32. , 33.8,\n",
       "       35.6, 37.4, 39.2, 41. , 42.8, 44.6, 46.4, 48.2, 50. , 51.8, 53.6,\n",
       "       55.4, 57.2, 59. , 60.8, 62.6, 64.4, 66.2, 68. , 69.8, 71.6, 73.4,\n",
       "       75.2, 77. , 78.8, 80.6, 82.4, 84.2, 86. , 87.8, 89.6, 91.4, 93.2,\n",
       "       95. ])"
      ]
     },
     "execution_count": 25,
     "metadata": {},
     "output_type": "execute_result"
    }
   ],
   "source": [
    "celsius = np.arange(-20, 36) # Cria um array com o valores de -20 a 35, representando a temperatura em graus Celsius\n",
    "fahrenheit = celsius * (9/5) + 32 # Cria um array convertendo cada valor em Celsius para fahrenheit\n",
    "\n",
    "fahrenheit"
   ]
  },
  {
   "cell_type": "code",
   "execution_count": 26,
   "metadata": {},
   "outputs": [
    {
     "name": "stdout",
     "output_type": "stream",
     "text": [
      "[ 1  2  3  4  5  6  7  8  9 10]\n",
      "[ 1  3  5  7  9 11 13 15 17 19]\n",
      "-------------------------------\n",
      "[ 2  5  8 11 14 17 20 23 26 29]\n"
     ]
    }
   ],
   "source": [
    "# Somando cada elemento de a1D a b1D\n",
    "g1D = a1D + b1D\n",
    "print(a1D)\n",
    "print(b1D)\n",
    "print(\"-\"*31)\n",
    "print(g1D)"
   ]
  },
  {
   "cell_type": "code",
   "execution_count": 27,
   "metadata": {},
   "outputs": [
    {
     "name": "stdout",
     "output_type": "stream",
     "text": [
      "[ 1  2  3  4  5  6  7  8  9 10]\n",
      "[ 1  3  5  7  9 11 13 15 17 19]\n",
      "-------------------------------\n",
      "[ 2  5  8 11 14 17 20 23 26 29]\n"
     ]
    }
   ],
   "source": [
    "# Outra forma de somar cada elemento de a1D a b1D\n",
    "h1D = np.add(a1D, b1D)\n",
    "print(a1D)\n",
    "print(b1D)\n",
    "print(\"-\"*31)\n",
    "print(h1D)"
   ]
  },
  {
   "cell_type": "code",
   "execution_count": 28,
   "metadata": {},
   "outputs": [
    {
     "name": "stdout",
     "output_type": "stream",
     "text": [
      "[ 2  5  8 11 14 17 20 23 26 29]\n",
      "[ 2  5  8 11 14 17 20 23 26 29]\n",
      "-------------------------------\n",
      "[0 0 0 0 0 0 0 0 0 0]\n"
     ]
    }
   ],
   "source": [
    "i1D = h1D - g1D\n",
    "print(h1D)\n",
    "print(g1D)\n",
    "print(\"-\"*31)\n",
    "print(i1D)"
   ]
  },
  {
   "cell_type": "code",
   "execution_count": 29,
   "metadata": {},
   "outputs": [
    {
     "name": "stdout",
     "output_type": "stream",
     "text": [
      "[ 2  5  8 11 14 17 20 23 26 29]\n",
      "[ 2  5  8 11 14 17 20 23 26 29]\n",
      "-------------------------------\n",
      "[0 0 0 0 0 0 0 0 0 0]\n"
     ]
    }
   ],
   "source": [
    "# Outra forma de somar cada elemento de a1D a b1D\n",
    "j1D = np.subtract(h1D, g1D)\n",
    "print(h1D)\n",
    "print(g1D)\n",
    "print(\"-\"*31)\n",
    "print(j1D)"
   ]
  },
  {
   "cell_type": "code",
   "execution_count": 30,
   "metadata": {},
   "outputs": [
    {
     "data": {
      "text/plain": [
       "array([1, 2, 3, 4, 5])"
      ]
     },
     "execution_count": 30,
     "metadata": {},
     "output_type": "execute_result"
    }
   ],
   "source": [
    "a1D = np.arange(1, 6)\n",
    "a1D"
   ]
  },
  {
   "cell_type": "code",
   "execution_count": 31,
   "metadata": {},
   "outputs": [
    {
     "data": {
      "text/plain": [
       "array([ 6,  7,  8,  9, 10])"
      ]
     },
     "execution_count": 31,
     "metadata": {},
     "output_type": "execute_result"
    }
   ],
   "source": [
    "b1D = np.arange(6,11)\n",
    "b1D"
   ]
  },
  {
   "cell_type": "code",
   "execution_count": 32,
   "metadata": {},
   "outputs": [
    {
     "data": {
      "text/plain": [
       "array([ 6, 14, 24, 36, 50])"
      ]
     },
     "execution_count": 32,
     "metadata": {},
     "output_type": "execute_result"
    }
   ],
   "source": [
    "c1D = a1D * b1D\n",
    "c1D"
   ]
  },
  {
   "cell_type": "code",
   "execution_count": 33,
   "metadata": {},
   "outputs": [
    {
     "data": {
      "text/plain": [
       "array([ 6, 14, 24, 36, 50])"
      ]
     },
     "execution_count": 33,
     "metadata": {},
     "output_type": "execute_result"
    }
   ],
   "source": [
    "d1D = np.multiply(a1D, b1D)\n",
    "d1D"
   ]
  },
  {
   "cell_type": "code",
   "execution_count": 34,
   "metadata": {},
   "outputs": [
    {
     "data": {
      "text/plain": [
       "array([ 6.,  7.,  8.,  9., 10.])"
      ]
     },
     "execution_count": 34,
     "metadata": {},
     "output_type": "execute_result"
    }
   ],
   "source": [
    "e1D = c1D / a1D\n",
    "e1D"
   ]
  },
  {
   "cell_type": "code",
   "execution_count": 35,
   "metadata": {},
   "outputs": [
    {
     "data": {
      "text/plain": [
       "array([ 6.,  7.,  8.,  9., 10.])"
      ]
     },
     "execution_count": 35,
     "metadata": {},
     "output_type": "execute_result"
    }
   ],
   "source": [
    "f1D = np.divide(c1D, a1D)\n",
    "f1D"
   ]
  },
  {
   "cell_type": "code",
   "execution_count": 36,
   "metadata": {},
   "outputs": [
    {
     "data": {
      "text/plain": [
       "array([1, 2, 3, 4, 5, 6, 7, 8, 9])"
      ]
     },
     "execution_count": 36,
     "metadata": {},
     "output_type": "execute_result"
    }
   ],
   "source": [
    "g1D = np.arange(1,10)\n",
    "g1D"
   ]
  },
  {
   "cell_type": "code",
   "execution_count": 37,
   "metadata": {},
   "outputs": [
    {
     "data": {
      "text/plain": [
       "array([1.        , 1.41421356, 1.73205081, 2.        , 2.23606798,\n",
       "       2.44948974, 2.64575131, 2.82842712, 3.        ])"
      ]
     },
     "execution_count": 37,
     "metadata": {},
     "output_type": "execute_result"
    }
   ],
   "source": [
    "raiz1D = np.sqrt(g1D)\n",
    "raiz1D"
   ]
  },
  {
   "cell_type": "markdown",
   "metadata": {},
   "source": [
    "### Algumas funções"
   ]
  },
  {
   "cell_type": "code",
   "execution_count": 38,
   "metadata": {},
   "outputs": [
    {
     "data": {
      "text/plain": [
       "array([[ 14,  41,  77,  40,  42,  61,  80,  20,   8,   1],\n",
       "       [  7,  58,  80,  59,  21,  57,  22,  18,  32,  89],\n",
       "       [ 35,  60,  46, 100,  38,  37,  81,  39,  40,  30],\n",
       "       [ 36,  74,  16,  61,  16,  28,  17,  93,  62,  97],\n",
       "       [ 46,   8,  17,  20,  88,  78,  30,  83,  66,  20]])"
      ]
     },
     "execution_count": 38,
     "metadata": {},
     "output_type": "execute_result"
    }
   ],
   "source": [
    "d2D = np.random.randint(1, 101, (5,10)) # Array de 5 linhas x 10 colunas preenchidos com valores aleatórios entre 1 e 100\n",
    "d2D"
   ]
  },
  {
   "cell_type": "markdown",
   "metadata": {},
   "source": [
    "#### Obs: como os valores valores são gerados aleatoriamente, sua matriz provavelmente será diferente da gerada acima"
   ]
  },
  {
   "cell_type": "code",
   "execution_count": 39,
   "metadata": {},
   "outputs": [
    {
     "data": {
      "text/plain": [
       "2289"
      ]
     },
     "execution_count": 39,
     "metadata": {},
     "output_type": "execute_result"
    }
   ],
   "source": [
    "# Soma de todos os elementos\n",
    "d2D.sum()"
   ]
  },
  {
   "cell_type": "code",
   "execution_count": 40,
   "metadata": {},
   "outputs": [
    {
     "data": {
      "text/plain": [
       "array([138, 241, 236, 280, 205, 261, 230, 253, 208, 237])"
      ]
     },
     "execution_count": 40,
     "metadata": {},
     "output_type": "execute_result"
    }
   ],
   "source": [
    "# Soma de todos os elementos de cada coluna (eixo 0)\n",
    "d2D.sum(axis = 0)"
   ]
  },
  {
   "cell_type": "code",
   "execution_count": 41,
   "metadata": {},
   "outputs": [
    {
     "data": {
      "text/plain": [
       "array([384, 443, 506, 500, 456])"
      ]
     },
     "execution_count": 41,
     "metadata": {},
     "output_type": "execute_result"
    }
   ],
   "source": [
    "# Soma de todos os elementos de cada linha (eixo 1)\n",
    "d2D.sum(axis = 1)"
   ]
  },
  {
   "cell_type": "code",
   "execution_count": 42,
   "metadata": {},
   "outputs": [
    {
     "data": {
      "text/plain": [
       "array([138, 241, 236, 280, 205, 261, 230, 253, 208, 237])"
      ]
     },
     "execution_count": 42,
     "metadata": {},
     "output_type": "execute_result"
    }
   ],
   "source": [
    "somacol = sum(d2D) # A função sum() do Python retornará a soma de todas as colunas\n",
    "somacol"
   ]
  },
  {
   "cell_type": "code",
   "execution_count": 43,
   "metadata": {},
   "outputs": [
    {
     "data": {
      "text/plain": [
       "1"
      ]
     },
     "execution_count": 43,
     "metadata": {},
     "output_type": "execute_result"
    }
   ],
   "source": [
    "# Retorna o menor valor geral\n",
    "d2D.min()"
   ]
  },
  {
   "cell_type": "code",
   "execution_count": 44,
   "metadata": {},
   "outputs": [
    {
     "data": {
      "text/plain": [
       "array([ 7,  8, 16, 20, 16, 28, 17, 18,  8,  1])"
      ]
     },
     "execution_count": 44,
     "metadata": {},
     "output_type": "execute_result"
    }
   ],
   "source": [
    "# Retorna o menor valor de cada coluna (eixo 0)\n",
    "d2D.min(axis=0)"
   ]
  },
  {
   "cell_type": "code",
   "execution_count": 45,
   "metadata": {},
   "outputs": [
    {
     "data": {
      "text/plain": [
       "array([ 1,  7, 30, 16,  8])"
      ]
     },
     "execution_count": 45,
     "metadata": {},
     "output_type": "execute_result"
    }
   ],
   "source": [
    "# Retorna o menor valor de cada linha (eixo 1)\n",
    "d2D.min(axis=1)"
   ]
  },
  {
   "cell_type": "code",
   "execution_count": 46,
   "metadata": {},
   "outputs": [
    {
     "data": {
      "text/plain": [
       "100"
      ]
     },
     "execution_count": 46,
     "metadata": {},
     "output_type": "execute_result"
    }
   ],
   "source": [
    "# Retorna o maior valor geral\n",
    "d2D.max()"
   ]
  },
  {
   "cell_type": "code",
   "execution_count": 47,
   "metadata": {},
   "outputs": [
    {
     "data": {
      "text/plain": [
       "array([ 46,  74,  80, 100,  88,  78,  81,  93,  66,  97])"
      ]
     },
     "execution_count": 47,
     "metadata": {},
     "output_type": "execute_result"
    }
   ],
   "source": [
    "# Retorna o maior valor de cada coluna (eixo 0)\n",
    "d2D.max(axis=0)"
   ]
  },
  {
   "cell_type": "code",
   "execution_count": 48,
   "metadata": {},
   "outputs": [
    {
     "data": {
      "text/plain": [
       "array([ 80,  89, 100,  97,  88])"
      ]
     },
     "execution_count": 48,
     "metadata": {},
     "output_type": "execute_result"
    }
   ],
   "source": [
    "# Retorna o maior valor de cada linha (eixo 1)\n",
    "d2D.max(axis=1)"
   ]
  },
  {
   "cell_type": "code",
   "execution_count": 49,
   "metadata": {},
   "outputs": [
    {
     "data": {
      "text/plain": [
       "array([  14,   55,  132,  172,  214,  275,  355,  375,  383,  384,  391,\n",
       "        449,  529,  588,  609,  666,  688,  706,  738,  827,  862,  922,\n",
       "        968, 1068, 1106, 1143, 1224, 1263, 1303, 1333, 1369, 1443, 1459,\n",
       "       1520, 1536, 1564, 1581, 1674, 1736, 1833, 1879, 1887, 1904, 1924,\n",
       "       2012, 2090, 2120, 2203, 2269, 2289], dtype=int32)"
      ]
     },
     "execution_count": 49,
     "metadata": {},
     "output_type": "execute_result"
    }
   ],
   "source": [
    "# Retorna a soma cumulativa\n",
    "d2D.cumsum()"
   ]
  },
  {
   "cell_type": "code",
   "execution_count": 50,
   "metadata": {},
   "outputs": [
    {
     "data": {
      "text/plain": [
       "array([[ 14,  41,  77,  40,  42,  61,  80,  20,   8,   1],\n",
       "       [ 21,  99, 157,  99,  63, 118, 102,  38,  40,  90],\n",
       "       [ 56, 159, 203, 199, 101, 155, 183,  77,  80, 120],\n",
       "       [ 92, 233, 219, 260, 117, 183, 200, 170, 142, 217],\n",
       "       [138, 241, 236, 280, 205, 261, 230, 253, 208, 237]], dtype=int32)"
      ]
     },
     "execution_count": 50,
     "metadata": {},
     "output_type": "execute_result"
    }
   ],
   "source": [
    "# Retorna a soma cumulativa para cada coluna (eixo = 0)\n",
    "d2D.cumsum(axis = 0)"
   ]
  },
  {
   "cell_type": "code",
   "execution_count": 51,
   "metadata": {},
   "outputs": [
    {
     "data": {
      "text/plain": [
       "array([[ 14,  41,  77,  40,  42,  61,  80,  20,   8,   1],\n",
       "       [  7,  58,  80,  59,  21,  57,  22,  18,  32,  89],\n",
       "       [ 35,  60,  46, 100,  38,  37,  81,  39,  40,  30],\n",
       "       [ 36,  74,  16,  61,  16,  28,  17,  93,  62,  97],\n",
       "       [ 46,   8,  17,  20,  88,  78,  30,  83,  66,  20]])"
      ]
     },
     "execution_count": 51,
     "metadata": {},
     "output_type": "execute_result"
    }
   ],
   "source": [
    "d2D"
   ]
  },
  {
   "cell_type": "code",
   "execution_count": 52,
   "metadata": {},
   "outputs": [
    {
     "data": {
      "text/plain": [
       "array([[ 14,  55, 132, 172, 214, 275, 355, 375, 383, 384],\n",
       "       [  7,  65, 145, 204, 225, 282, 304, 322, 354, 443],\n",
       "       [ 35,  95, 141, 241, 279, 316, 397, 436, 476, 506],\n",
       "       [ 36, 110, 126, 187, 203, 231, 248, 341, 403, 500],\n",
       "       [ 46,  54,  71,  91, 179, 257, 287, 370, 436, 456]], dtype=int32)"
      ]
     },
     "execution_count": 52,
     "metadata": {},
     "output_type": "execute_result"
    }
   ],
   "source": [
    "# Retorna a soma cumulativa para cada linha (eixo = 1)\n",
    "x = d2D.cumsum(axis = 1)\n",
    "x"
   ]
  },
  {
   "cell_type": "code",
   "execution_count": 53,
   "metadata": {},
   "outputs": [
    {
     "data": {
      "text/plain": [
       "45.78"
      ]
     },
     "execution_count": 53,
     "metadata": {},
     "output_type": "execute_result"
    }
   ],
   "source": [
    "# Retorna a média aritmética\n",
    "d2D.mean()"
   ]
  },
  {
   "cell_type": "code",
   "execution_count": 54,
   "metadata": {},
   "outputs": [
    {
     "data": {
      "text/plain": [
       "array([27.6, 48.2, 47.2, 56. , 41. , 52.2, 46. , 50.6, 41.6, 47.4])"
      ]
     },
     "execution_count": 54,
     "metadata": {},
     "output_type": "execute_result"
    }
   ],
   "source": [
    "# Retorna a média aritmética para cada coluna (eixo = 0)\n",
    "d2D.mean(axis = 0)"
   ]
  },
  {
   "cell_type": "code",
   "execution_count": 55,
   "metadata": {},
   "outputs": [
    {
     "data": {
      "text/plain": [
       "array([38.4, 44.3, 50.6, 50. , 45.6])"
      ]
     },
     "execution_count": 55,
     "metadata": {},
     "output_type": "execute_result"
    }
   ],
   "source": [
    "# Retorna a média aritmética para cada linha (eixo = 1)\n",
    "d2D.mean(axis = 1)"
   ]
  },
  {
   "cell_type": "code",
   "execution_count": 56,
   "metadata": {},
   "outputs": [
    {
     "data": {
      "text/plain": [
       "27.298564064800185"
      ]
     },
     "execution_count": 56,
     "metadata": {},
     "output_type": "execute_result"
    }
   ],
   "source": [
    "# Retorna o desvio padrão\n",
    "d2D.std()"
   ]
  },
  {
   "cell_type": "code",
   "execution_count": 57,
   "metadata": {},
   "outputs": [
    {
     "data": {
      "text/plain": [
       "array([14.65059726, 22.66627451, 27.7517567 , 26.54053504, 25.47155276,\n",
       "       17.79213309, 28.47455004, 31.56326979, 21.14332046, 38.46348918])"
      ]
     },
     "execution_count": 57,
     "metadata": {},
     "output_type": "execute_result"
    }
   ],
   "source": [
    "# Retorna o desvio padrão para cada coluna (eixo = 0)\n",
    "d2D.std(axis = 0)"
   ]
  },
  {
   "cell_type": "code",
   "execution_count": 58,
   "metadata": {},
   "outputs": [
    {
     "data": {
      "text/plain": [
       "array([26.47715997, 26.66852077, 21.75408008, 29.96664813, 29.06613149])"
      ]
     },
     "execution_count": 58,
     "metadata": {},
     "output_type": "execute_result"
    }
   ],
   "source": [
    "# Retorna o desvio padrão para cada linha (eixo = 1)\n",
    "d2D.std(axis = 1)"
   ]
  },
  {
   "cell_type": "code",
   "execution_count": 59,
   "metadata": {},
   "outputs": [
    {
     "data": {
      "text/plain": [
       "40.0"
      ]
     },
     "execution_count": 59,
     "metadata": {},
     "output_type": "execute_result"
    }
   ],
   "source": [
    "# Retorna a mediana (geral)\n",
    "np.median(d2D)"
   ]
  },
  {
   "cell_type": "code",
   "execution_count": 60,
   "metadata": {},
   "outputs": [
    {
     "data": {
      "text/plain": [
       "array([35., 58., 46., 59., 38., 57., 30., 39., 40., 30.])"
      ]
     },
     "execution_count": 60,
     "metadata": {},
     "output_type": "execute_result"
    }
   ],
   "source": [
    "# Retorna a mediana para cada coluna (eixo = 0)\n",
    "np.median(d2D, axis = 0)"
   ]
  },
  {
   "cell_type": "code",
   "execution_count": 61,
   "metadata": {},
   "outputs": [
    {
     "data": {
      "text/plain": [
       "array([40.5, 44.5, 39.5, 48.5, 38. ])"
      ]
     },
     "execution_count": 61,
     "metadata": {},
     "output_type": "execute_result"
    }
   ],
   "source": [
    "# Retorna a mediana para cada linha (eixo = 1)\n",
    "np.median(d2D, axis = 1)"
   ]
  },
  {
   "cell_type": "markdown",
   "metadata": {},
   "source": [
    "### Copiando e concatenando arrays"
   ]
  },
  {
   "cell_type": "code",
   "execution_count": 62,
   "metadata": {},
   "outputs": [
    {
     "data": {
      "text/plain": [
       "array([[33, 30, 49,  2, 34],\n",
       "       [26, 48,  1, 33, 42],\n",
       "       [43,  6, 34,  5,  4],\n",
       "       [22, 34, 43, 16,  6]])"
      ]
     },
     "execution_count": 62,
     "metadata": {},
     "output_type": "execute_result"
    }
   ],
   "source": [
    "a2D = np.random.randint(1,50, (4,5))\n",
    "a2D"
   ]
  },
  {
   "cell_type": "code",
   "execution_count": 63,
   "metadata": {},
   "outputs": [
    {
     "data": {
      "text/plain": [
       "array([[68, 68, 65, 53, 72],\n",
       "       [78, 69, 91, 50, 72],\n",
       "       [55, 50, 61, 51, 97],\n",
       "       [59, 74, 79, 72, 65]])"
      ]
     },
     "execution_count": 63,
     "metadata": {},
     "output_type": "execute_result"
    }
   ],
   "source": [
    "b2D = np.random.randint(50,100, (4,5))\n",
    "b2D"
   ]
  },
  {
   "cell_type": "code",
   "execution_count": 64,
   "metadata": {},
   "outputs": [
    {
     "data": {
      "text/plain": [
       "array([[33, 30, 49,  2, 34],\n",
       "       [26, 48,  1, 33, 42],\n",
       "       [43,  6, 34,  5,  4],\n",
       "       [22, 34, 43, 16,  6]])"
      ]
     },
     "execution_count": 64,
     "metadata": {},
     "output_type": "execute_result"
    }
   ],
   "source": [
    "c2D = a2D\n",
    "c2D"
   ]
  },
  {
   "cell_type": "code",
   "execution_count": 65,
   "metadata": {},
   "outputs": [
    {
     "data": {
      "text/plain": [
       "array([[33, 30, 49, -1, 34],\n",
       "       [26, 48, -1, 33, 42],\n",
       "       [43, -1, 34, -1, -1],\n",
       "       [22, 34, 43, -1, -1]])"
      ]
     },
     "execution_count": 65,
     "metadata": {},
     "output_type": "execute_result"
    }
   ],
   "source": [
    "# Aparentemente ocorreu uma cópia dos arrays, mas veja o que acontece se alterarmos alguns elementos\n",
    "c2D[c2D < 20] = -1\n",
    "c2D"
   ]
  },
  {
   "cell_type": "code",
   "execution_count": 66,
   "metadata": {},
   "outputs": [
    {
     "data": {
      "text/plain": [
       "array([[33, 30, 49, -1, 34],\n",
       "       [26, 48, -1, 33, 42],\n",
       "       [43, -1, 34, -1, -1],\n",
       "       [22, 34, 43, -1, -1]])"
      ]
     },
     "execution_count": 66,
     "metadata": {},
     "output_type": "execute_result"
    }
   ],
   "source": [
    "a2D "
   ]
  },
  {
   "cell_type": "markdown",
   "metadata": {},
   "source": [
    "Os elementos de a2D também foram alterados. :-("
   ]
  },
  {
   "cell_type": "code",
   "execution_count": 67,
   "metadata": {},
   "outputs": [
    {
     "data": {
      "text/plain": [
       "array([[ 2, 11, 39, 30,  8],\n",
       "       [16,  2, 39, 46, 41],\n",
       "       [44,  6, 14, 43, 25],\n",
       "       [22, 11, 20, 16, 15]])"
      ]
     },
     "execution_count": 67,
     "metadata": {},
     "output_type": "execute_result"
    }
   ],
   "source": [
    "# Redefinindo os elementos de a2D\n",
    "a2D = np.random.randint(1,50, (4,5))\n",
    "a2D"
   ]
  },
  {
   "cell_type": "code",
   "execution_count": 68,
   "metadata": {},
   "outputs": [
    {
     "data": {
      "text/plain": [
       "array([[ 2, 11, 39, 30,  8],\n",
       "       [16,  2, 39, 46, 41],\n",
       "       [44,  6, 14, 43, 25],\n",
       "       [22, 11, 20, 16, 15]])"
      ]
     },
     "execution_count": 68,
     "metadata": {},
     "output_type": "execute_result"
    }
   ],
   "source": [
    "# Forma correta de copiar um array parece que com a forma de copiar uma lista\n",
    "c2D = a2D.copy()\n",
    "c2D"
   ]
  },
  {
   "cell_type": "code",
   "execution_count": 69,
   "metadata": {},
   "outputs": [
    {
     "data": {
      "text/plain": [
       "array([[-1, -1, 39, 30, -1],\n",
       "       [-1, -1, 39, 46, 41],\n",
       "       [44, -1, -1, 43, 25],\n",
       "       [22, -1, 20, -1, -1]])"
      ]
     },
     "execution_count": 69,
     "metadata": {},
     "output_type": "execute_result"
    }
   ],
   "source": [
    "c2D[c2D < 20] = -1\n",
    "c2D"
   ]
  },
  {
   "cell_type": "code",
   "execution_count": 70,
   "metadata": {},
   "outputs": [
    {
     "data": {
      "text/plain": [
       "array([[ 2, 11, 39, 30,  8],\n",
       "       [16,  2, 39, 46, 41],\n",
       "       [44,  6, 14, 43, 25],\n",
       "       [22, 11, 20, 16, 15]])"
      ]
     },
     "execution_count": 70,
     "metadata": {},
     "output_type": "execute_result"
    }
   ],
   "source": [
    "a2D"
   ]
  },
  {
   "cell_type": "markdown",
   "metadata": {},
   "source": [
    "Agora sim!!!"
   ]
  },
  {
   "cell_type": "markdown",
   "metadata": {},
   "source": [
    "### Ordenando os elementos de um array"
   ]
  },
  {
   "cell_type": "code",
   "execution_count": 71,
   "metadata": {},
   "outputs": [
    {
     "data": {
      "text/plain": [
       "array([24, 53, 88, 41, 99, 57, 14, 40, 71, 84, 89, 34, 21, 27, 59])"
      ]
     },
     "execution_count": 71,
     "metadata": {},
     "output_type": "execute_result"
    }
   ],
   "source": [
    "a1D = np.random.randint(1,100, 15)\n",
    "a1D"
   ]
  },
  {
   "cell_type": "code",
   "execution_count": 72,
   "metadata": {},
   "outputs": [
    {
     "data": {
      "text/plain": [
       "array([14, 21, 24, 27, 34, 40, 41, 53, 57, 59, 71, 84, 88, 89, 99])"
      ]
     },
     "execution_count": 72,
     "metadata": {},
     "output_type": "execute_result"
    }
   ],
   "source": [
    "a1D.sort()\n",
    "a1D"
   ]
  },
  {
   "cell_type": "code",
   "execution_count": 73,
   "metadata": {},
   "outputs": [
    {
     "data": {
      "text/plain": [
       "array([[65, 49, 78, 56, 61, 73, 27, 87, 52, 70],\n",
       "       [98, 53, 85, 22, 36, 64, 20, 19, 10, 59],\n",
       "       [58, 43, 96, 94, 43, 39, 49, 35, 33, 19],\n",
       "       [82, 63, 22, 24, 92, 72, 10, 82, 57, 60],\n",
       "       [59, 97, 69, 51, 86, 69, 38, 41, 72, 68],\n",
       "       [17, 61, 66, 37, 31, 58, 88, 26, 15, 85]])"
      ]
     },
     "execution_count": 73,
     "metadata": {},
     "output_type": "execute_result"
    }
   ],
   "source": [
    "a2D = np.random.randint(1,100, (6,10))\n",
    "a2D"
   ]
  },
  {
   "cell_type": "code",
   "execution_count": 74,
   "metadata": {},
   "outputs": [
    {
     "data": {
      "text/plain": [
       "array([[27, 49, 52, 56, 61, 65, 70, 73, 78, 87],\n",
       "       [10, 19, 20, 22, 36, 53, 59, 64, 85, 98],\n",
       "       [19, 33, 35, 39, 43, 43, 49, 58, 94, 96],\n",
       "       [10, 22, 24, 57, 60, 63, 72, 82, 82, 92],\n",
       "       [38, 41, 51, 59, 68, 69, 69, 72, 86, 97],\n",
       "       [15, 17, 26, 31, 37, 58, 61, 66, 85, 88]])"
      ]
     },
     "execution_count": 74,
     "metadata": {},
     "output_type": "execute_result"
    }
   ],
   "source": [
    "a2D.sort() # Por padrão ordena o maior eixo (nesse caso o eixo 1, linhas)\n",
    "a2D"
   ]
  },
  {
   "cell_type": "code",
   "execution_count": 75,
   "metadata": {},
   "outputs": [
    {
     "data": {
      "text/plain": [
       "array([[10, 17, 20, 22, 36, 43, 49, 58, 78, 87],\n",
       "       [10, 19, 24, 31, 37, 53, 59, 64, 82, 88],\n",
       "       [15, 22, 26, 39, 43, 58, 61, 66, 85, 92],\n",
       "       [19, 33, 35, 56, 60, 63, 69, 72, 85, 96],\n",
       "       [27, 41, 51, 57, 61, 65, 70, 73, 86, 97],\n",
       "       [38, 49, 52, 59, 68, 69, 72, 82, 94, 98]])"
      ]
     },
     "execution_count": 75,
     "metadata": {},
     "output_type": "execute_result"
    }
   ],
   "source": [
    "a2D.sort(axis=0) # Ordenando pelo eixo 0 (colunas)\n",
    "a2D"
   ]
  },
  {
   "cell_type": "code",
   "execution_count": 76,
   "metadata": {},
   "outputs": [
    {
     "data": {
      "text/plain": [
       "array([[74, 85, 50, 36, 63, 66, 77, 39, 60, 19],\n",
       "       [32, 97, 67, 92,  5, 73, 12, 83, 67, 24],\n",
       "       [38, 57, 55, 57,  3, 78, 31,  2, 64, 48],\n",
       "       [31, 63, 12, 36, 60, 87, 37, 37,  3,  9],\n",
       "       [85, 69, 63, 36, 44, 34, 69, 19, 73, 66],\n",
       "       [94, 83, 40,  8, 78, 67, 12, 22, 56, 93]])"
      ]
     },
     "execution_count": 76,
     "metadata": {},
     "output_type": "execute_result"
    }
   ],
   "source": [
    "a2D = np.random.randint(1,100, (6,10))\n",
    "a2D"
   ]
  },
  {
   "cell_type": "code",
   "execution_count": 77,
   "metadata": {},
   "outputs": [
    {
     "data": {
      "text/plain": [
       "array([[19, 36, 39, 50, 60, 63, 66, 74, 77, 85],\n",
       "       [ 5, 12, 24, 32, 67, 67, 73, 83, 92, 97],\n",
       "       [ 2,  3, 31, 38, 48, 55, 57, 57, 64, 78],\n",
       "       [ 3,  9, 12, 31, 36, 37, 37, 60, 63, 87],\n",
       "       [19, 34, 36, 44, 63, 66, 69, 69, 73, 85],\n",
       "       [ 8, 12, 22, 40, 56, 67, 78, 83, 93, 94]])"
      ]
     },
     "execution_count": 77,
     "metadata": {},
     "output_type": "execute_result"
    }
   ],
   "source": [
    "a2D.sort(axis=1) # Ordenando pelo eixo 1 (linhas)\n",
    "a2D"
   ]
  },
  {
   "cell_type": "markdown",
   "metadata": {},
   "source": [
    "### Transposição de arrays"
   ]
  },
  {
   "cell_type": "code",
   "execution_count": 78,
   "metadata": {},
   "outputs": [
    {
     "data": {
      "text/plain": [
       "array([[1, 2, 3, 4],\n",
       "       [5, 6, 7, 8]])"
      ]
     },
     "execution_count": 78,
     "metadata": {},
     "output_type": "execute_result"
    }
   ],
   "source": [
    "a2D = np.array([[1,2,3,4],[5,6,7,8]])\n",
    "a2D"
   ]
  },
  {
   "cell_type": "code",
   "execution_count": 79,
   "metadata": {},
   "outputs": [
    {
     "data": {
      "text/plain": [
       "array([[1, 5],\n",
       "       [2, 6],\n",
       "       [3, 7],\n",
       "       [4, 8]])"
      ]
     },
     "execution_count": 79,
     "metadata": {},
     "output_type": "execute_result"
    }
   ],
   "source": [
    "a2DT = a2D.T # Retorna a transposta\n",
    "a2DT"
   ]
  },
  {
   "cell_type": "code",
   "execution_count": 80,
   "metadata": {},
   "outputs": [
    {
     "data": {
      "text/plain": [
       "array([[1, 2, 3, 4],\n",
       "       [5, 6, 7, 8]])"
      ]
     },
     "execution_count": 80,
     "metadata": {},
     "output_type": "execute_result"
    }
   ],
   "source": [
    "a2D # a2D original não foi transposto"
   ]
  },
  {
   "cell_type": "code",
   "execution_count": 81,
   "metadata": {},
   "outputs": [
    {
     "data": {
      "text/plain": [
       "array([[1, 5],\n",
       "       [2, 6],\n",
       "       [3, 7],\n",
       "       [4, 8]])"
      ]
     },
     "execution_count": 81,
     "metadata": {},
     "output_type": "execute_result"
    }
   ],
   "source": [
    "a2D.transpose() # Retorna a transposta"
   ]
  },
  {
   "cell_type": "code",
   "execution_count": 82,
   "metadata": {},
   "outputs": [
    {
     "data": {
      "text/plain": [
       "array([[1, 2, 3, 4],\n",
       "       [5, 6, 7, 8]])"
      ]
     },
     "execution_count": 82,
     "metadata": {},
     "output_type": "execute_result"
    }
   ],
   "source": [
    "a2D # a2D original não foi transposto"
   ]
  },
  {
   "cell_type": "markdown",
   "metadata": {},
   "source": [
    "### Mudando o formato de um array - reshape()"
   ]
  },
  {
   "cell_type": "code",
   "execution_count": 83,
   "metadata": {},
   "outputs": [
    {
     "data": {
      "text/plain": [
       "array([ 1,  2,  3,  4,  5,  6,  7,  8,  9, 10, 11, 12, 13, 14, 15, 16, 17,\n",
       "       18, 19, 20, 21, 22, 23, 24])"
      ]
     },
     "execution_count": 83,
     "metadata": {},
     "output_type": "execute_result"
    }
   ],
   "source": [
    "a1D = np.arange(1,25)\n",
    "a1D"
   ]
  },
  {
   "cell_type": "code",
   "execution_count": 84,
   "metadata": {},
   "outputs": [
    {
     "name": "stdout",
     "output_type": "stream",
     "text": [
      "(24,)\n",
      "(2, 12)\n",
      "[[ 1  2  3  4  5  6  7  8  9 10 11 12]\n",
      " [13 14 15 16 17 18 19 20 21 22 23 24]]\n"
     ]
    }
   ],
   "source": [
    "print(a1D.shape)\n",
    "a1D.shape = (2,12)\n",
    "print(a1D.shape)\n",
    "print(a1D)"
   ]
  },
  {
   "cell_type": "code",
   "execution_count": 85,
   "metadata": {},
   "outputs": [
    {
     "data": {
      "text/plain": [
       "array([[ 1,  2,  3,  4,  5,  6],\n",
       "       [ 7,  8,  9, 10, 11, 12],\n",
       "       [13, 14, 15, 16, 17, 18],\n",
       "       [19, 20, 21, 22, 23, 24]])"
      ]
     },
     "execution_count": 85,
     "metadata": {},
     "output_type": "execute_result"
    }
   ],
   "source": [
    "a2D_4x6 = a1D.reshape(4,6)\n",
    "a2D_4x6"
   ]
  },
  {
   "cell_type": "code",
   "execution_count": 86,
   "metadata": {},
   "outputs": [
    {
     "data": {
      "text/plain": [
       "array([[ 1,  2,  3,  4,  5,  6,  7,  8,  9, 10, 11, 12],\n",
       "       [13, 14, 15, 16, 17, 18, 19, 20, 21, 22, 23, 24]])"
      ]
     },
     "execution_count": 86,
     "metadata": {},
     "output_type": "execute_result"
    }
   ],
   "source": [
    "a1D"
   ]
  },
  {
   "cell_type": "code",
   "execution_count": 87,
   "metadata": {},
   "outputs": [
    {
     "data": {
      "text/plain": [
       "array([[ 1,  2,  3,  4,  5,  6,  7,  8],\n",
       "       [ 9, 10, 11, 12, 13, 14, 15, 16],\n",
       "       [17, 18, 19, 20, 21, 22, 23, 24]])"
      ]
     },
     "execution_count": 87,
     "metadata": {},
     "output_type": "execute_result"
    }
   ],
   "source": [
    "a2D_3x8 = a1D.reshape(3,8)\n",
    "a2D_3x8"
   ]
  },
  {
   "cell_type": "markdown",
   "metadata": {},
   "source": [
    "### Linearização de um array"
   ]
  },
  {
   "cell_type": "code",
   "execution_count": 88,
   "metadata": {},
   "outputs": [
    {
     "data": {
      "text/plain": [
       "array([ 1,  2,  3,  4,  5,  6,  7,  8,  9, 10, 11, 12, 13, 14, 15, 16, 17,\n",
       "       18, 19, 20, 21, 22, 23, 24])"
      ]
     },
     "execution_count": 88,
     "metadata": {},
     "output_type": "execute_result"
    }
   ],
   "source": [
    "x = a2D_3x8.flatten()\n",
    "x"
   ]
  },
  {
   "cell_type": "code",
   "execution_count": 89,
   "metadata": {},
   "outputs": [
    {
     "data": {
      "text/plain": [
       "array([ 1,  2,  3,  4,  5,  6,  7,  8,  9, 10, 11, 12, 13, 14, 15, 16, 17,\n",
       "       18, 19, 20, 21, 22, 23, 24])"
      ]
     },
     "execution_count": 89,
     "metadata": {},
     "output_type": "execute_result"
    }
   ],
   "source": [
    "y = a2D_3x8.ravel()\n",
    "y"
   ]
  },
  {
   "cell_type": "markdown",
   "metadata": {},
   "source": [
    "### Combinando/concatenando arrays"
   ]
  },
  {
   "cell_type": "code",
   "execution_count": 90,
   "metadata": {},
   "outputs": [
    {
     "data": {
      "text/plain": [
       "array([[44, 69, 48, 68, 97, 59, 87, 82, 80],\n",
       "       [95, 68,  9, 24, 50, 19, 85, 78, 59],\n",
       "       [12, 54, 63, 98, 83, 27, 82, 24,  1]])"
      ]
     },
     "execution_count": 90,
     "metadata": {},
     "output_type": "execute_result"
    }
   ],
   "source": [
    "a2D = np.random.randint(1,101,(3,9))\n",
    "a2D"
   ]
  },
  {
   "cell_type": "code",
   "execution_count": 91,
   "metadata": {},
   "outputs": [
    {
     "data": {
      "text/plain": [
       "array([[ 92,  70, 100,  95,  74,  15,  36,  97,  41],\n",
       "       [ 12,  68,  30,  79,  61,  87,  31,  50,  25],\n",
       "       [ 10,  13,   7,  47,  57,  10,  69,  31,   7],\n",
       "       [ 94,  61,  31,  13,  71,  86,  33,  39,  91],\n",
       "       [ 38,  25,  66,  55,  74,  82,   6,  25,  80]])"
      ]
     },
     "execution_count": 91,
     "metadata": {},
     "output_type": "execute_result"
    }
   ],
   "source": [
    "b2D = np.random.randint(1,101,(5,9))\n",
    "b2D"
   ]
  },
  {
   "cell_type": "code",
   "execution_count": 92,
   "metadata": {},
   "outputs": [
    {
     "data": {
      "text/plain": [
       "array([[40, 29, 42, 65],\n",
       "       [86, 37, 64, 63],\n",
       "       [ 4, 83, 39, 26],\n",
       "       [ 3, 58, 65, 21],\n",
       "       [ 1, 51, 25, 19]])"
      ]
     },
     "execution_count": 92,
     "metadata": {},
     "output_type": "execute_result"
    }
   ],
   "source": [
    "c2D = np.random.randint(1,101,(5,4))\n",
    "c2D"
   ]
  },
  {
   "cell_type": "code",
   "execution_count": 93,
   "metadata": {},
   "outputs": [
    {
     "data": {
      "text/plain": [
       "'Python & Numpy'"
      ]
     },
     "execution_count": 93,
     "metadata": {},
     "output_type": "execute_result"
    }
   ],
   "source": [
    "# Concatenação de strings usa o operador \"+\"\n",
    "str1 = \"Python\"\n",
    "str2 = \" & \"\n",
    "str3 = \"Numpy\"\n",
    "str4 = str1 + str2 + str3\n",
    "str4"
   ]
  },
  {
   "cell_type": "code",
   "execution_count": 95,
   "metadata": {},
   "outputs": [
    {
     "ename": "ValueError",
     "evalue": "operands could not be broadcast together with shapes (3,9) (5,9) ",
     "output_type": "error",
     "traceback": [
      "\u001b[1;31m---------------------------------------------------------------------------\u001b[0m",
      "\u001b[1;31mValueError\u001b[0m                                Traceback (most recent call last)",
      "\u001b[1;32m<ipython-input-95-74910d117a42>\u001b[0m in \u001b[0;36m<module>\u001b[1;34m\u001b[0m\n\u001b[0;32m      1\u001b[0m \u001b[1;31m# O operador \"+\" aplicado a ndarrays não faz a concatenação, mas tentar somar elemento a elemento\u001b[0m\u001b[1;33m\u001b[0m\u001b[1;33m\u001b[0m\u001b[1;33m\u001b[0m\u001b[0m\n\u001b[1;32m----> 2\u001b[1;33m \u001b[0ma2D\u001b[0m \u001b[1;33m+\u001b[0m \u001b[0mb2D\u001b[0m\u001b[1;33m\u001b[0m\u001b[1;33m\u001b[0m\u001b[0m\n\u001b[0m",
      "\u001b[1;31mValueError\u001b[0m: operands could not be broadcast together with shapes (3,9) (5,9) "
     ]
    }
   ],
   "source": [
    "# O operador \"+\" aplicado a ndarrays não faz a concatenação, mas tentar somar elemento a elemento\n",
    "a2D + b2D"
   ]
  },
  {
   "cell_type": "code",
   "execution_count": 96,
   "metadata": {},
   "outputs": [
    {
     "name": "stdout",
     "output_type": "stream",
     "text": [
      "a2D\n",
      "[[44 69 48 68 97 59 87 82 80]\n",
      " [95 68  9 24 50 19 85 78 59]\n",
      " [12 54 63 98 83 27 82 24  1]]\n",
      "\n",
      "b2D\n",
      "[[ 92  70 100  95  74  15  36  97  41]\n",
      " [ 12  68  30  79  61  87  31  50  25]\n",
      " [ 10  13   7  47  57  10  69  31   7]\n",
      " [ 94  61  31  13  71  86  33  39  91]\n",
      " [ 38  25  66  55  74  82   6  25  80]]\n",
      "\n",
      "Concatenação\n",
      "[[ 44  69  48  68  97  59  87  82  80]\n",
      " [ 95  68   9  24  50  19  85  78  59]\n",
      " [ 12  54  63  98  83  27  82  24   1]\n",
      " [ 92  70 100  95  74  15  36  97  41]\n",
      " [ 12  68  30  79  61  87  31  50  25]\n",
      " [ 10  13   7  47  57  10  69  31   7]\n",
      " [ 94  61  31  13  71  86  33  39  91]\n",
      " [ 38  25  66  55  74  82   6  25  80]]\n"
     ]
    }
   ],
   "source": [
    "A = np.concatenate((a2D, b2D), axis = 0) # Concatenando pelo eixo das colunas (eixo 0) (empilhamento vertical) \n",
    "print(\"a2D\")\n",
    "print(a2D)\n",
    "print(\"\")\n",
    "print(\"b2D\")\n",
    "print(b2D)\n",
    "print(\"\")\n",
    "print(\"Concatenação\")\n",
    "print(A)"
   ]
  },
  {
   "cell_type": "code",
   "execution_count": 97,
   "metadata": {},
   "outputs": [
    {
     "name": "stdout",
     "output_type": "stream",
     "text": [
      "a2D\n",
      "[[44 69 48 68 97 59 87 82 80]\n",
      " [95 68  9 24 50 19 85 78 59]\n",
      " [12 54 63 98 83 27 82 24  1]]\n",
      "\n",
      "b2D\n",
      "[[ 92  70 100  95  74  15  36  97  41]\n",
      " [ 12  68  30  79  61  87  31  50  25]\n",
      " [ 10  13   7  47  57  10  69  31   7]\n",
      " [ 94  61  31  13  71  86  33  39  91]\n",
      " [ 38  25  66  55  74  82   6  25  80]]\n",
      "\n",
      "Concatenação\n",
      "[[ 44  69  48  68  97  59  87  82  80]\n",
      " [ 95  68   9  24  50  19  85  78  59]\n",
      " [ 12  54  63  98  83  27  82  24   1]\n",
      " [ 92  70 100  95  74  15  36  97  41]\n",
      " [ 12  68  30  79  61  87  31  50  25]\n",
      " [ 10  13   7  47  57  10  69  31   7]\n",
      " [ 94  61  31  13  71  86  33  39  91]\n",
      " [ 38  25  66  55  74  82   6  25  80]]\n"
     ]
    }
   ],
   "source": [
    "B = np.vstack((a2D, b2D)) # Concatenando pelo eixo das colunas (eixo 0) (empilhamento vertical) \n",
    "print(\"a2D\")\n",
    "print(a2D)\n",
    "print(\"\")\n",
    "print(\"b2D\")\n",
    "print(b2D)\n",
    "print(\"\")\n",
    "print(\"Concatenação\")\n",
    "print(B)"
   ]
  },
  {
   "cell_type": "code",
   "execution_count": 98,
   "metadata": {},
   "outputs": [
    {
     "name": "stdout",
     "output_type": "stream",
     "text": [
      "b2D\n",
      "[[ 92  70 100  95  74  15  36  97  41]\n",
      " [ 12  68  30  79  61  87  31  50  25]\n",
      " [ 10  13   7  47  57  10  69  31   7]\n",
      " [ 94  61  31  13  71  86  33  39  91]\n",
      " [ 38  25  66  55  74  82   6  25  80]]\n",
      "\n",
      "c2D\n",
      "[[40 29 42 65]\n",
      " [86 37 64 63]\n",
      " [ 4 83 39 26]\n",
      " [ 3 58 65 21]\n",
      " [ 1 51 25 19]]\n",
      "\n",
      "Concatenação\n",
      "[[ 92  70 100  95  74  15  36  97  41  40  29  42  65]\n",
      " [ 12  68  30  79  61  87  31  50  25  86  37  64  63]\n",
      " [ 10  13   7  47  57  10  69  31   7   4  83  39  26]\n",
      " [ 94  61  31  13  71  86  33  39  91   3  58  65  21]\n",
      " [ 38  25  66  55  74  82   6  25  80   1  51  25  19]]\n"
     ]
    }
   ],
   "source": [
    "C = np.concatenate((b2D, c2D), axis = 1) # Concatenando pelo eixo das linhas (eixo 1) (empilhamento horizontal) \n",
    "print(\"b2D\")\n",
    "print(b2D)\n",
    "print(\"\")\n",
    "print(\"c2D\")\n",
    "print(c2D)\n",
    "print(\"\")\n",
    "print(\"Concatenação\")\n",
    "print(C)"
   ]
  },
  {
   "cell_type": "code",
   "execution_count": 99,
   "metadata": {},
   "outputs": [
    {
     "name": "stdout",
     "output_type": "stream",
     "text": [
      "b2D\n",
      "[[ 92  70 100  95  74  15  36  97  41]\n",
      " [ 12  68  30  79  61  87  31  50  25]\n",
      " [ 10  13   7  47  57  10  69  31   7]\n",
      " [ 94  61  31  13  71  86  33  39  91]\n",
      " [ 38  25  66  55  74  82   6  25  80]]\n",
      "\n",
      "c2D\n",
      "[[40 29 42 65]\n",
      " [86 37 64 63]\n",
      " [ 4 83 39 26]\n",
      " [ 3 58 65 21]\n",
      " [ 1 51 25 19]]\n",
      "\n",
      "Concatenação\n",
      "[[ 92  70 100  95  74  15  36  97  41  40  29  42  65]\n",
      " [ 12  68  30  79  61  87  31  50  25  86  37  64  63]\n",
      " [ 10  13   7  47  57  10  69  31   7   4  83  39  26]\n",
      " [ 94  61  31  13  71  86  33  39  91   3  58  65  21]\n",
      " [ 38  25  66  55  74  82   6  25  80   1  51  25  19]]\n"
     ]
    }
   ],
   "source": [
    "D = np.hstack((b2D, c2D)) # Concatenando pelo eixo das linhas (eixo 1) (empilhamento horizontal) \n",
    "print(\"b2D\")\n",
    "print(b2D)\n",
    "print(\"\")\n",
    "print(\"c2D\")\n",
    "print(c2D)\n",
    "print(\"\")\n",
    "print(\"Concatenação\")\n",
    "print(D)"
   ]
  },
  {
   "cell_type": "markdown",
   "metadata": {},
   "source": [
    "### Dividindo arrays"
   ]
  },
  {
   "cell_type": "code",
   "execution_count": 100,
   "metadata": {},
   "outputs": [
    {
     "name": "stdout",
     "output_type": "stream",
     "text": [
      "Array original\n",
      "[[ 44  69  48  68  97  59  87  82  80]\n",
      " [ 95  68   9  24  50  19  85  78  59]\n",
      " [ 12  54  63  98  83  27  82  24   1]\n",
      " [ 92  70 100  95  74  15  36  97  41]\n",
      " [ 12  68  30  79  61  87  31  50  25]\n",
      " [ 10  13   7  47  57  10  69  31   7]\n",
      " [ 94  61  31  13  71  86  33  39  91]\n",
      " [ 38  25  66  55  74  82   6  25  80]]\n",
      "\n",
      "1a parte\n",
      "[[ 44  69  48  68  97  59  87  82  80]\n",
      " [ 95  68   9  24  50  19  85  78  59]\n",
      " [ 12  54  63  98  83  27  82  24   1]\n",
      " [ 92  70 100  95  74  15  36  97  41]]\n",
      "\n",
      "2a parte\n",
      "[[12 68 30 79 61 87 31 50 25]\n",
      " [10 13  7 47 57 10 69 31  7]\n",
      " [94 61 31 13 71 86 33 39 91]\n",
      " [38 25 66 55 74 82  6 25 80]]\n"
     ]
    }
   ],
   "source": [
    "A_splitted = np.vsplit(A,2) # Divisáo vertical (corta no sentido das colunas)\n",
    "print(\"Array original\")\n",
    "print(A)\n",
    "print(\"\")\n",
    "print(\"1a parte\")\n",
    "print(A_splitted[0])\n",
    "print(\"\")\n",
    "print(\"2a parte\")\n",
    "print(A_splitted[1])"
   ]
  },
  {
   "cell_type": "code",
   "execution_count": 101,
   "metadata": {},
   "outputs": [
    {
     "name": "stdout",
     "output_type": "stream",
     "text": [
      "Array original\n",
      "[[ 44  69  48  68  97  59  87  82  80]\n",
      " [ 95  68   9  24  50  19  85  78  59]\n",
      " [ 12  54  63  98  83  27  82  24   1]\n",
      " [ 92  70 100  95  74  15  36  97  41]\n",
      " [ 12  68  30  79  61  87  31  50  25]\n",
      " [ 10  13   7  47  57  10  69  31   7]\n",
      " [ 94  61  31  13  71  86  33  39  91]\n",
      " [ 38  25  66  55  74  82   6  25  80]]\n",
      "\n",
      "1a parte\n",
      "[[ 44  69  48]\n",
      " [ 95  68   9]\n",
      " [ 12  54  63]\n",
      " [ 92  70 100]\n",
      " [ 12  68  30]\n",
      " [ 10  13   7]\n",
      " [ 94  61  31]\n",
      " [ 38  25  66]]\n",
      "\n",
      "2a parte\n",
      "[[68 97 59]\n",
      " [24 50 19]\n",
      " [98 83 27]\n",
      " [95 74 15]\n",
      " [79 61 87]\n",
      " [47 57 10]\n",
      " [13 71 86]\n",
      " [55 74 82]]\n",
      "\n",
      "3a parte\n",
      "[[87 82 80]\n",
      " [85 78 59]\n",
      " [82 24  1]\n",
      " [36 97 41]\n",
      " [31 50 25]\n",
      " [69 31  7]\n",
      " [33 39 91]\n",
      " [ 6 25 80]]\n"
     ]
    }
   ],
   "source": [
    "A_splitted3 = np.hsplit(A,3) # Divisão horizontal (corta no sentido das linhas)\n",
    "print(\"Array original\")\n",
    "print(A)\n",
    "print(\"\")\n",
    "print(\"1a parte\")\n",
    "print(A_splitted3[0])\n",
    "print(\"\")\n",
    "print(\"2a parte\")\n",
    "print(A_splitted3[1])\n",
    "print(\"\")\n",
    "print(\"3a parte\")\n",
    "print(A_splitted3[2])"
   ]
  }
 ],
 "metadata": {
  "kernelspec": {
   "display_name": "Python 3",
   "language": "python",
   "name": "python3"
  },
  "language_info": {
   "codemirror_mode": {
    "name": "ipython",
    "version": 3
   },
   "file_extension": ".py",
   "mimetype": "text/x-python",
   "name": "python",
   "nbconvert_exporter": "python",
   "pygments_lexer": "ipython3",
   "version": "3.8.8"
  }
 },
 "nbformat": 4,
 "nbformat_minor": 2
}
