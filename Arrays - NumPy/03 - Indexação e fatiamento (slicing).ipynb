{
 "cells": [
  {
   "cell_type": "markdown",
   "metadata": {},
   "source": [
    "# Indexação e fatiamento (slicing)"
   ]
  },
  {
   "cell_type": "code",
   "execution_count": 1,
   "metadata": {},
   "outputs": [],
   "source": [
    "# Importando o NumPy\n",
    "import numpy as np"
   ]
  },
  {
   "cell_type": "code",
   "execution_count": 2,
   "metadata": {},
   "outputs": [
    {
     "data": {
      "text/plain": [
       "array([1, 3, 9, 3, 0, 3, 9, 5, 2, 3])"
      ]
     },
     "execution_count": 2,
     "metadata": {},
     "output_type": "execute_result"
    }
   ],
   "source": [
    "# Cria um ndarray com 10 elementos entre 0 e 9\n",
    "a1D = np.random.randint(0, 10, 10)\n",
    "a1D"
   ]
  },
  {
   "cell_type": "code",
   "execution_count": 3,
   "metadata": {},
   "outputs": [
    {
     "data": {
      "text/plain": [
       "array([[ 19,   4,  14,  10,  95],\n",
       "       [ 30,  65,  78, 100,  77],\n",
       "       [ 81,  56,  46,  99,  99],\n",
       "       [ 34,  87,  28,  94,  90]])"
      ]
     },
     "execution_count": 3,
     "metadata": {},
     "output_type": "execute_result"
    }
   ],
   "source": [
    "a2D = np.random.randint(1, 101, (4,5)) # Cria um ndarray de 4 linhas x 5 colunas com elementos entre 1 e 100\n",
    "a2D"
   ]
  },
  {
   "cell_type": "code",
   "execution_count": 4,
   "metadata": {},
   "outputs": [
    {
     "data": {
      "text/plain": [
       "array([[[0.54539607, 0.2006384 , 0.3332248 , 0.72778316, 0.1816849 ],\n",
       "        [0.99912861, 0.3753253 , 0.12319861, 0.86900372, 0.47174463],\n",
       "        [0.66013702, 0.4119241 , 0.80137192, 0.12891798, 0.47242092],\n",
       "        [0.37387668, 0.71586219, 0.96144984, 0.62696955, 0.69648516]],\n",
       "\n",
       "       [[0.36881189, 0.84550528, 0.45949837, 0.21449398, 0.85414894],\n",
       "        [0.54114496, 0.10191007, 0.60787885, 0.59469594, 0.14984536],\n",
       "        [0.41484798, 0.36043992, 0.1893149 , 0.66636484, 0.25940823],\n",
       "        [0.31649411, 0.41305583, 0.05482618, 0.94173899, 0.41826893]],\n",
       "\n",
       "       [[0.59724214, 0.72981605, 0.41469711, 0.4922534 , 0.55826983],\n",
       "        [0.44268431, 0.90435483, 0.8754921 , 0.59899955, 0.5341011 ],\n",
       "        [0.06873466, 0.09367422, 0.1702164 , 0.59879118, 0.80384419],\n",
       "        [0.76987708, 0.87205879, 0.37017521, 0.43225566, 0.85086742]]])"
      ]
     },
     "execution_count": 4,
     "metadata": {},
     "output_type": "execute_result"
    }
   ],
   "source": [
    "a3D = np.random.random((3,4,5)) # Cria um ndarray de 3 páginas x 4 linhas x 5 colunas com elementos entre 0 e 1\n",
    "a3D"
   ]
  },
  {
   "cell_type": "markdown",
   "metadata": {},
   "source": [
    "### Acessando elementos específicos"
   ]
  },
  {
   "cell_type": "code",
   "execution_count": 5,
   "metadata": {},
   "outputs": [
    {
     "data": {
      "text/plain": [
       "array([1, 3, 9, 3, 0, 3, 9, 5, 2, 3])"
      ]
     },
     "execution_count": 5,
     "metadata": {},
     "output_type": "execute_result"
    }
   ],
   "source": [
    "# Acessando elementos de um ndarray de 1 dimensão\n",
    "a1D"
   ]
  },
  {
   "cell_type": "code",
   "execution_count": 6,
   "metadata": {},
   "outputs": [
    {
     "data": {
      "text/plain": [
       "1"
      ]
     },
     "execution_count": 6,
     "metadata": {},
     "output_type": "execute_result"
    }
   ],
   "source": [
    "# nome_do_array[índice]\n",
    "a1D[0]"
   ]
  },
  {
   "cell_type": "code",
   "execution_count": 7,
   "metadata": {},
   "outputs": [
    {
     "data": {
      "text/plain": [
       "9"
      ]
     },
     "execution_count": 7,
     "metadata": {},
     "output_type": "execute_result"
    }
   ],
   "source": [
    "a1D[2]"
   ]
  },
  {
   "cell_type": "code",
   "execution_count": 8,
   "metadata": {},
   "outputs": [
    {
     "data": {
      "text/plain": [
       "3"
      ]
     },
     "execution_count": 8,
     "metadata": {},
     "output_type": "execute_result"
    }
   ],
   "source": [
    "a1D[-1]"
   ]
  },
  {
   "cell_type": "code",
   "execution_count": 9,
   "metadata": {},
   "outputs": [
    {
     "data": {
      "text/plain": [
       "array([3, 1, 3])"
      ]
     },
     "execution_count": 9,
     "metadata": {},
     "output_type": "execute_result"
    }
   ],
   "source": [
    "indices = [3, 0, -1] # Definindo uma lista com os índices que se deseja acessar\n",
    "a1D[indices]"
   ]
  },
  {
   "cell_type": "code",
   "execution_count": 10,
   "metadata": {},
   "outputs": [
    {
     "data": {
      "text/plain": [
       "array([[ 19,   4,  14,  10,  95],\n",
       "       [ 30,  65,  78, 100,  77],\n",
       "       [ 81,  56,  46,  99,  99],\n",
       "       [ 34,  87,  28,  94,  90]])"
      ]
     },
     "execution_count": 10,
     "metadata": {},
     "output_type": "execute_result"
    }
   ],
   "source": [
    "# Acessando elementos de um ndarray de 2 dimensões\n",
    "a2D"
   ]
  },
  {
   "cell_type": "code",
   "execution_count": 11,
   "metadata": {},
   "outputs": [
    {
     "data": {
      "text/plain": [
       "78"
      ]
     },
     "execution_count": 11,
     "metadata": {},
     "output_type": "execute_result"
    }
   ],
   "source": [
    "# nome_da_matriz[linha][coluna]\n",
    "a2D[1][2]"
   ]
  },
  {
   "cell_type": "code",
   "execution_count": 12,
   "metadata": {},
   "outputs": [
    {
     "data": {
      "text/plain": [
       "90"
      ]
     },
     "execution_count": 12,
     "metadata": {},
     "output_type": "execute_result"
    }
   ],
   "source": [
    "a2D[3][4]"
   ]
  },
  {
   "cell_type": "code",
   "execution_count": 13,
   "metadata": {},
   "outputs": [
    {
     "data": {
      "text/plain": [
       "array([19, 65, 46, 94])"
      ]
     },
     "execution_count": 13,
     "metadata": {},
     "output_type": "execute_result"
    }
   ],
   "source": [
    "indice_lin = [0, 1, 2, 3]\n",
    "indice_col = [0, 1, 2, 3]\n",
    "\n",
    "a2D[indice_lin, indice_col]"
   ]
  },
  {
   "cell_type": "code",
   "execution_count": 14,
   "metadata": {},
   "outputs": [
    {
     "data": {
      "text/plain": [
       "array([10, 78, 56, 34])"
      ]
     },
     "execution_count": 14,
     "metadata": {},
     "output_type": "execute_result"
    }
   ],
   "source": [
    "indice_lin = [0, 1, 2, 3]\n",
    "indice_col = [3, 2, 1, 0]\n",
    "\n",
    "a2D[indice_lin, indice_col]"
   ]
  },
  {
   "cell_type": "code",
   "execution_count": 15,
   "metadata": {},
   "outputs": [
    {
     "data": {
      "text/plain": [
       "array([94, 46, 65, 19])"
      ]
     },
     "execution_count": 15,
     "metadata": {},
     "output_type": "execute_result"
    }
   ],
   "source": [
    "indice_lin = [3, 2, 1, 0]\n",
    "indice_col = [3, 2, 1, 0]\n",
    "\n",
    "a2D[indice_lin, indice_col]"
   ]
  },
  {
   "cell_type": "code",
   "execution_count": 16,
   "metadata": {},
   "outputs": [
    {
     "data": {
      "text/plain": [
       "array([[19,  4, 14, 19],\n",
       "       [30, 65, 78, 30],\n",
       "       [81, 56, 46, 81],\n",
       "       [34, 87, 28, 34]])"
      ]
     },
     "execution_count": 16,
     "metadata": {},
     "output_type": "execute_result"
    }
   ],
   "source": [
    "a2D[:,[0,1,2,0]] "
   ]
  },
  {
   "cell_type": "code",
   "execution_count": 17,
   "metadata": {},
   "outputs": [
    {
     "data": {
      "text/plain": [
       "array([[30, 65, 78, 30],\n",
       "       [19,  4, 14, 19],\n",
       "       [30, 65, 78, 30],\n",
       "       [19,  4, 14, 19]])"
      ]
     },
     "execution_count": 17,
     "metadata": {},
     "output_type": "execute_result"
    }
   ],
   "source": [
    "a2D[:,[0,1,2,0]][[1, 0, 1, 0]]"
   ]
  },
  {
   "cell_type": "code",
   "execution_count": 18,
   "metadata": {},
   "outputs": [
    {
     "data": {
      "text/plain": [
       "array([[ 19,   4,  14,  10,  95],\n",
       "       [ 30,  65,  78, 100,  77],\n",
       "       [ 81,  56,  46,  99,  99],\n",
       "       [ 34,  87,  28,  94,  90]])"
      ]
     },
     "execution_count": 18,
     "metadata": {},
     "output_type": "execute_result"
    }
   ],
   "source": [
    "a2D"
   ]
  },
  {
   "cell_type": "code",
   "execution_count": 19,
   "metadata": {},
   "outputs": [
    {
     "data": {
      "text/plain": [
       "array([[30, 65, 78, 30],\n",
       "       [19,  4, 14, 19],\n",
       "       [30, 65, 78, 30],\n",
       "       [19,  4, 14, 19]])"
      ]
     },
     "execution_count": 19,
     "metadata": {},
     "output_type": "execute_result"
    }
   ],
   "source": [
    "a2D[[1, 0, 1, 0]][:,[0,1,2,0]] "
   ]
  },
  {
   "cell_type": "code",
   "execution_count": 20,
   "metadata": {},
   "outputs": [
    {
     "data": {
      "text/plain": [
       "array([[[0.54539607, 0.2006384 , 0.3332248 , 0.72778316, 0.1816849 ],\n",
       "        [0.99912861, 0.3753253 , 0.12319861, 0.86900372, 0.47174463],\n",
       "        [0.66013702, 0.4119241 , 0.80137192, 0.12891798, 0.47242092],\n",
       "        [0.37387668, 0.71586219, 0.96144984, 0.62696955, 0.69648516]],\n",
       "\n",
       "       [[0.36881189, 0.84550528, 0.45949837, 0.21449398, 0.85414894],\n",
       "        [0.54114496, 0.10191007, 0.60787885, 0.59469594, 0.14984536],\n",
       "        [0.41484798, 0.36043992, 0.1893149 , 0.66636484, 0.25940823],\n",
       "        [0.31649411, 0.41305583, 0.05482618, 0.94173899, 0.41826893]],\n",
       "\n",
       "       [[0.59724214, 0.72981605, 0.41469711, 0.4922534 , 0.55826983],\n",
       "        [0.44268431, 0.90435483, 0.8754921 , 0.59899955, 0.5341011 ],\n",
       "        [0.06873466, 0.09367422, 0.1702164 , 0.59879118, 0.80384419],\n",
       "        [0.76987708, 0.87205879, 0.37017521, 0.43225566, 0.85086742]]])"
      ]
     },
     "execution_count": 20,
     "metadata": {},
     "output_type": "execute_result"
    }
   ],
   "source": [
    "# Acessando elementos de um ndarray de 3 dimensões\n",
    "a3D"
   ]
  },
  {
   "cell_type": "code",
   "execution_count": 21,
   "metadata": {},
   "outputs": [
    {
     "data": {
      "text/plain": [
       "0.49225339716378913"
      ]
     },
     "execution_count": 21,
     "metadata": {},
     "output_type": "execute_result"
    }
   ],
   "source": [
    "# nome_do_cubo[página][linha][coluna]\n",
    "a3D[2][0][3]"
   ]
  },
  {
   "cell_type": "code",
   "execution_count": 22,
   "metadata": {},
   "outputs": [
    {
     "data": {
      "text/plain": [
       "0.7158621931829816"
      ]
     },
     "execution_count": 22,
     "metadata": {},
     "output_type": "execute_result"
    }
   ],
   "source": [
    "a3D[0][3][1]"
   ]
  },
  {
   "cell_type": "markdown",
   "metadata": {},
   "source": [
    "### Fatiamento (slicing)"
   ]
  },
  {
   "cell_type": "code",
   "execution_count": 23,
   "metadata": {},
   "outputs": [
    {
     "data": {
      "text/plain": [
       "array([1, 3, 9, 3, 0, 3, 9, 5, 2, 3])"
      ]
     },
     "execution_count": 23,
     "metadata": {},
     "output_type": "execute_result"
    }
   ],
   "source": [
    "# Array de 1 dimensão\n",
    "a1D"
   ]
  },
  {
   "cell_type": "code",
   "execution_count": 24,
   "metadata": {},
   "outputs": [
    {
     "data": {
      "text/plain": [
       "array([3, 9, 3, 0])"
      ]
     },
     "execution_count": 24,
     "metadata": {},
     "output_type": "execute_result"
    }
   ],
   "source": [
    "a = a1D[1:5] # Índice 1 ao 4\n",
    "a"
   ]
  },
  {
   "cell_type": "code",
   "execution_count": 25,
   "metadata": {},
   "outputs": [
    {
     "data": {
      "text/plain": [
       "array([1, 3, 9, 3, 0, 3])"
      ]
     },
     "execution_count": 25,
     "metadata": {},
     "output_type": "execute_result"
    }
   ],
   "source": [
    "b = a1D[0:6] # Índice 0 ao 5\n",
    "b"
   ]
  },
  {
   "cell_type": "code",
   "execution_count": 26,
   "metadata": {},
   "outputs": [
    {
     "data": {
      "text/plain": [
       "array([1, 3, 9, 3, 0, 3])"
      ]
     },
     "execution_count": 26,
     "metadata": {},
     "output_type": "execute_result"
    }
   ],
   "source": [
    "c = a1D[:6] # Do início ao 5\n",
    "c"
   ]
  },
  {
   "cell_type": "code",
   "execution_count": 27,
   "metadata": {},
   "outputs": [
    {
     "data": {
      "text/plain": [
       "array([1, 9, 0, 9, 2])"
      ]
     },
     "execution_count": 27,
     "metadata": {},
     "output_type": "execute_result"
    }
   ],
   "source": [
    "d = a1D[::2] # Do início ao fim, com passo 2\n",
    "d"
   ]
  },
  {
   "cell_type": "code",
   "execution_count": 28,
   "metadata": {},
   "outputs": [
    {
     "data": {
      "text/plain": [
       "array([3, 2, 5, 9, 3, 0, 3, 9, 3, 1])"
      ]
     },
     "execution_count": 28,
     "metadata": {},
     "output_type": "execute_result"
    }
   ],
   "source": [
    "e = a1D[-1::-1] # Do final até o início\n",
    "e"
   ]
  },
  {
   "cell_type": "code",
   "execution_count": 29,
   "metadata": {},
   "outputs": [
    {
     "data": {
      "text/plain": [
       "array([[ 19,   4,  14,  10,  95],\n",
       "       [ 30,  65,  78, 100,  77],\n",
       "       [ 81,  56,  46,  99,  99],\n",
       "       [ 34,  87,  28,  94,  90]])"
      ]
     },
     "execution_count": 29,
     "metadata": {},
     "output_type": "execute_result"
    }
   ],
   "source": [
    "# Array de 2 dimensões\n",
    "a2D"
   ]
  },
  {
   "cell_type": "code",
   "execution_count": 30,
   "metadata": {},
   "outputs": [
    {
     "data": {
      "text/plain": [
       "array([19,  4, 14, 10, 95])"
      ]
     },
     "execution_count": 30,
     "metadata": {},
     "output_type": "execute_result"
    }
   ],
   "source": [
    "linha0 = a2D[0] # Todos os elementos da linha 0 - outra forma seria: linha0 = a2D[0,:]\n",
    "linha0"
   ]
  },
  {
   "cell_type": "code",
   "execution_count": 31,
   "metadata": {},
   "outputs": [
    {
     "data": {
      "text/plain": [
       "array([ 30,  65,  78, 100,  77])"
      ]
     },
     "execution_count": 31,
     "metadata": {},
     "output_type": "execute_result"
    }
   ],
   "source": [
    "linha1 = a2D[1,:] # Todos os elementos da linha 1\n",
    "linha1"
   ]
  },
  {
   "cell_type": "code",
   "execution_count": 32,
   "metadata": {},
   "outputs": [
    {
     "data": {
      "text/plain": [
       "array([56, 46, 99])"
      ]
     },
     "execution_count": 32,
     "metadata": {},
     "output_type": "execute_result"
    }
   ],
   "source": [
    "linha2 = a2D[2,1:4] # Linha 2, colunas 1, 2 e 3\n",
    "linha2"
   ]
  },
  {
   "cell_type": "code",
   "execution_count": 33,
   "metadata": {},
   "outputs": [
    {
     "data": {
      "text/plain": [
       "array([34, 87, 28, 94, 90])"
      ]
     },
     "execution_count": 33,
     "metadata": {},
     "output_type": "execute_result"
    }
   ],
   "source": [
    "linha3 = a2D[:][3] # a2D[:] retorna toda a matriz, então de toda a matriz queremos a linha 3 a2D[:][3]\n",
    "linha3"
   ]
  },
  {
   "cell_type": "code",
   "execution_count": 34,
   "metadata": {},
   "outputs": [
    {
     "data": {
      "text/plain": [
       "array([14, 78, 46, 28])"
      ]
     },
     "execution_count": 34,
     "metadata": {},
     "output_type": "execute_result"
    }
   ],
   "source": [
    "coluna2 = a2D[:,2] # De todas as linhas, selecionar a coluna 2\n",
    "coluna2"
   ]
  },
  {
   "cell_type": "code",
   "execution_count": 35,
   "metadata": {},
   "outputs": [
    {
     "data": {
      "text/plain": [
       "array([100,  99,  94])"
      ]
     },
     "execution_count": 35,
     "metadata": {},
     "output_type": "execute_result"
    }
   ],
   "source": [
    "coluna3 = a2D[1:,3] # Da linha um até a última, selecionar a coluna 3\n",
    "coluna3"
   ]
  },
  {
   "cell_type": "code",
   "execution_count": 36,
   "metadata": {},
   "outputs": [
    {
     "data": {
      "text/plain": [
       "array([[[0.54539607, 0.2006384 , 0.3332248 , 0.72778316, 0.1816849 ],\n",
       "        [0.99912861, 0.3753253 , 0.12319861, 0.86900372, 0.47174463],\n",
       "        [0.66013702, 0.4119241 , 0.80137192, 0.12891798, 0.47242092],\n",
       "        [0.37387668, 0.71586219, 0.96144984, 0.62696955, 0.69648516]],\n",
       "\n",
       "       [[0.36881189, 0.84550528, 0.45949837, 0.21449398, 0.85414894],\n",
       "        [0.54114496, 0.10191007, 0.60787885, 0.59469594, 0.14984536],\n",
       "        [0.41484798, 0.36043992, 0.1893149 , 0.66636484, 0.25940823],\n",
       "        [0.31649411, 0.41305583, 0.05482618, 0.94173899, 0.41826893]],\n",
       "\n",
       "       [[0.59724214, 0.72981605, 0.41469711, 0.4922534 , 0.55826983],\n",
       "        [0.44268431, 0.90435483, 0.8754921 , 0.59899955, 0.5341011 ],\n",
       "        [0.06873466, 0.09367422, 0.1702164 , 0.59879118, 0.80384419],\n",
       "        [0.76987708, 0.87205879, 0.37017521, 0.43225566, 0.85086742]]])"
      ]
     },
     "execution_count": 36,
     "metadata": {},
     "output_type": "execute_result"
    }
   ],
   "source": [
    "# Array de 3 dimensões\n",
    "a3D"
   ]
  },
  {
   "cell_type": "code",
   "execution_count": 37,
   "metadata": {},
   "outputs": [
    {
     "data": {
      "text/plain": [
       "array([[0.36881189, 0.84550528, 0.45949837, 0.21449398, 0.85414894],\n",
       "       [0.54114496, 0.10191007, 0.60787885, 0.59469594, 0.14984536],\n",
       "       [0.41484798, 0.36043992, 0.1893149 , 0.66636484, 0.25940823],\n",
       "       [0.31649411, 0.41305583, 0.05482618, 0.94173899, 0.41826893]])"
      ]
     },
     "execution_count": 37,
     "metadata": {},
     "output_type": "execute_result"
    }
   ],
   "source": [
    "# Acessando a página/face 1\n",
    "face1 = a3D[1]\n",
    "face1"
   ]
  },
  {
   "cell_type": "code",
   "execution_count": 38,
   "metadata": {},
   "outputs": [
    {
     "data": {
      "text/plain": [
       "array([[0.84550528, 0.45949837, 0.21449398],\n",
       "       [0.10191007, 0.60787885, 0.59469594],\n",
       "       [0.36043992, 0.1893149 , 0.66636484]])"
      ]
     },
     "execution_count": 38,
     "metadata": {},
     "output_type": "execute_result"
    }
   ],
   "source": [
    "# Acessando uma parte da face1\n",
    "subface1 = a3D[1,0:3, 1:4]\n",
    "subface1"
   ]
  },
  {
   "cell_type": "code",
   "execution_count": 39,
   "metadata": {},
   "outputs": [
    {
     "data": {
      "text/plain": [
       "array([0.66013702, 0.4119241 , 0.80137192, 0.12891798, 0.47242092])"
      ]
     },
     "execution_count": 39,
     "metadata": {},
     "output_type": "execute_result"
    }
   ],
   "source": [
    "linha2face0 = a3D[0,2] # outra forma: linha2face0 = a3D[0,2,:]\n",
    "linha2face0"
   ]
  },
  {
   "cell_type": "code",
   "execution_count": 40,
   "metadata": {},
   "outputs": [
    {
     "data": {
      "text/plain": [
       "array([[[0.54539607, 0.2006384 , 0.3332248 , 0.72778316, 0.1816849 ],\n",
       "        [0.99912861, 0.3753253 , 0.12319861, 0.86900372, 0.47174463],\n",
       "        [0.66013702, 0.4119241 , 0.80137192, 0.12891798, 0.47242092],\n",
       "        [0.37387668, 0.71586219, 0.96144984, 0.62696955, 0.69648516]],\n",
       "\n",
       "       [[0.36881189, 0.84550528, 0.45949837, 0.21449398, 0.85414894],\n",
       "        [0.54114496, 0.10191007, 0.60787885, 0.59469594, 0.14984536],\n",
       "        [0.41484798, 0.36043992, 0.1893149 , 0.66636484, 0.25940823],\n",
       "        [0.31649411, 0.41305583, 0.05482618, 0.94173899, 0.41826893]],\n",
       "\n",
       "       [[0.59724214, 0.72981605, 0.41469711, 0.4922534 , 0.55826983],\n",
       "        [0.44268431, 0.90435483, 0.8754921 , 0.59899955, 0.5341011 ],\n",
       "        [0.06873466, 0.09367422, 0.1702164 , 0.59879118, 0.80384419],\n",
       "        [0.76987708, 0.87205879, 0.37017521, 0.43225566, 0.85086742]]])"
      ]
     },
     "execution_count": 40,
     "metadata": {},
     "output_type": "execute_result"
    }
   ],
   "source": [
    "a3D"
   ]
  },
  {
   "cell_type": "code",
   "execution_count": 41,
   "metadata": {},
   "outputs": [
    {
     "data": {
      "text/plain": [
       "array([[0.99912861, 0.3753253 , 0.12319861, 0.86900372, 0.47174463],\n",
       "       [0.54114496, 0.10191007, 0.60787885, 0.59469594, 0.14984536],\n",
       "       [0.44268431, 0.90435483, 0.8754921 , 0.59899955, 0.5341011 ]])"
      ]
     },
     "execution_count": 41,
     "metadata": {},
     "output_type": "execute_result"
    }
   ],
   "source": [
    "linha1todasfaces = a3D[:,1] # outra forma: linha1todasfaces = a3D[:,1,:]\n",
    "linha1todasfaces"
   ]
  },
  {
   "cell_type": "code",
   "execution_count": 42,
   "metadata": {},
   "outputs": [
    {
     "data": {
      "text/plain": [
       "array([[0.72778316, 0.86900372, 0.12891798, 0.62696955],\n",
       "       [0.21449398, 0.59469594, 0.66636484, 0.94173899],\n",
       "       [0.4922534 , 0.59899955, 0.59879118, 0.43225566]])"
      ]
     },
     "execution_count": 42,
     "metadata": {},
     "output_type": "execute_result"
    }
   ],
   "source": [
    "coluna3todasfaces = a3D[:,:,3]\n",
    "coluna3todasfaces"
   ]
  },
  {
   "cell_type": "markdown",
   "metadata": {},
   "source": [
    "### Indexação com booleanos"
   ]
  },
  {
   "cell_type": "code",
   "execution_count": 43,
   "metadata": {},
   "outputs": [
    {
     "data": {
      "text/plain": [
       "array([[461,  13, 473, 333, 423, 355, 120, 317],\n",
       "       [298, 380, 428, 437, 309, 358,  77,   4],\n",
       "       [316,  84, 392, 474,  29,  29, 151, 262],\n",
       "       [ 53, 224, 299, 258, 411, 417, 291, 472],\n",
       "       [ 17, 264, 314, 357, 304, 235, 459, 281],\n",
       "       [ 62,  66, 220,  20, 192, 373, 105, 254],\n",
       "       [ 57, 363,  44, 352, 342, 342, 299,  43],\n",
       "       [373, 337, 318,  68, 336, 145, 440, 340],\n",
       "       [346, 247, 389,  50,  78, 259, 205, 348],\n",
       "       [418, 293,   2,  77, 395,   9, 459, 339]])"
      ]
     },
     "execution_count": 43,
     "metadata": {},
     "output_type": "execute_result"
    }
   ],
   "source": [
    "a2D = np.random.randint(1, 501, (10, 8)) # Cria um ndarray de 4 linhas x 5 colunas com elementos entre 1 e 100\n",
    "a2D"
   ]
  },
  {
   "cell_type": "code",
   "execution_count": 44,
   "metadata": {},
   "outputs": [
    {
     "data": {
      "text/plain": [
       "array([[ True, False,  True,  True,  True,  True, False,  True],\n",
       "       [ True,  True,  True,  True,  True,  True, False, False],\n",
       "       [ True, False,  True,  True, False, False, False,  True],\n",
       "       [False, False,  True,  True,  True,  True,  True,  True],\n",
       "       [False,  True,  True,  True,  True, False,  True,  True],\n",
       "       [False, False, False, False, False,  True, False,  True],\n",
       "       [False,  True, False,  True,  True,  True,  True, False],\n",
       "       [ True,  True,  True, False,  True, False,  True,  True],\n",
       "       [ True, False,  True, False, False,  True, False,  True],\n",
       "       [ True,  True, False, False,  True, False,  True,  True]])"
      ]
     },
     "execution_count": 44,
     "metadata": {},
     "output_type": "execute_result"
    }
   ],
   "source": [
    "a2D >= 250"
   ]
  },
  {
   "cell_type": "code",
   "execution_count": 45,
   "metadata": {},
   "outputs": [
    {
     "data": {
      "text/plain": [
       "array([461, 473, 333, 423, 355, 317, 298, 380, 428, 437, 309, 358, 316,\n",
       "       392, 474, 262, 299, 258, 411, 417, 291, 472, 264, 314, 357, 304,\n",
       "       459, 281, 373, 254, 363, 352, 342, 342, 299, 373, 337, 318, 336,\n",
       "       440, 340, 346, 389, 259, 348, 418, 293, 395, 459, 339])"
      ]
     },
     "execution_count": 45,
     "metadata": {},
     "output_type": "execute_result"
    }
   ],
   "source": [
    "a2D[a2D >= 250]"
   ]
  },
  {
   "cell_type": "code",
   "execution_count": 46,
   "metadata": {},
   "outputs": [
    {
     "data": {
      "text/plain": [
       "257.3"
      ]
     },
     "execution_count": 46,
     "metadata": {},
     "output_type": "execute_result"
    }
   ],
   "source": [
    "a2D.mean()"
   ]
  },
  {
   "cell_type": "code",
   "execution_count": 47,
   "metadata": {},
   "outputs": [
    {
     "data": {
      "text/plain": [
       "array([ 13, 120,  77,   4,  84,  29,  29, 151,  53, 224,  17, 235,  62,\n",
       "        66, 220,  20, 192, 105, 254,  57,  44,  43,  68, 145, 247,  50,\n",
       "        78, 205,   2,  77,   9])"
      ]
     },
     "execution_count": 47,
     "metadata": {},
     "output_type": "execute_result"
    }
   ],
   "source": [
    "a2D[a2D <= a2D.mean()]"
   ]
  }
 ],
 "metadata": {
  "kernelspec": {
   "display_name": "Python 3",
   "language": "python",
   "name": "python3"
  },
  "language_info": {
   "codemirror_mode": {
    "name": "ipython",
    "version": 3
   },
   "file_extension": ".py",
   "mimetype": "text/x-python",
   "name": "python",
   "nbconvert_exporter": "python",
   "pygments_lexer": "ipython3",
   "version": "3.8.8"
  }
 },
 "nbformat": 4,
 "nbformat_minor": 2
}
