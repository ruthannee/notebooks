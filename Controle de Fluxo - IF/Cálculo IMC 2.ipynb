{
 "cells": [
  {
   "cell_type": "markdown",
   "metadata": {},
   "source": [
    "# <font color='#045FB4'>Cálculo do IMC e verificação das diversas classes</font>\n",
    "\n",
    "O IMC é calculado através da equação $ IMC = \\frac{peso}{altura^2} $.\n",
    "\n",
    "Após o cálculo do índice, podemos verificar a situação da pessoa através da tabela abaixo.\n",
    "\n",
    "|         IMC        |         Situação        |\n",
    "|:------------------:|:-----------------------:|\n",
    "| Abaixo de 17       | Muito abaixo do peso    |\n",
    "| Entre 17 e 18,49   | Abaixo do peso          |\n",
    "| Entre 18,5 e 24,99 | Peso normal             |\n",
    "| Entre 25 e 29,99   | Acima do peso           |\n",
    "| Entre 30 e 34,99   | Obesidade I             |\n",
    "| Entre 35 e 39,99   | Obesidade II (severa)   |\n",
    "| Acima de 40        | Obesidade III (mórbida) |"
   ]
  },
  {
   "cell_type": "code",
   "execution_count": 2,
   "metadata": {},
   "outputs": [
    {
     "name": "stdout",
     "output_type": "stream",
     "text": [
      "Digite seu peso: 75\n",
      "Digite sua altura: 1.56\n",
      "Seu peso está acima do ideal (Obesidade I). Seu IMC = 30.818540433925047.\n"
     ]
    }
   ],
   "source": [
    "peso = float(input(\"Digite seu peso: \"))\n",
    "altura = float(input(\"Digite sua altura: \"))\n",
    "imc = peso / altura ** 2\n",
    "if imc < 17:\n",
    "    print(\"Seu peso está muito abaixo do ideal. Seu IMC = {}.\".format(imc))\n",
    "else:\n",
    "    if imc >= 17 and imc < 18.5:\n",
    "        print(\"Seu peso está abaixo do ideal. Seu IMC = {}.\".format(imc))\n",
    "    else:\n",
    "        if imc >= 18.5 and imc < 25:\n",
    "            print(\"Seu peso está dentro da faixa ideal. Seu IMC = {}.\".format(imc))\n",
    "        else:\n",
    "            if imc >= 25 and imc < 30:\n",
    "                print(\"Seu peso está acima do ideal. Seu IMC = {}.\".format(imc))\n",
    "            else:\n",
    "                if imc >= 30 and imc < 35:\n",
    "                    print(\"Seu peso está acima do ideal (Obesidade I). Seu IMC = {}.\".format(imc))\n",
    "                else:\n",
    "                    if imc >= 35 and imc < 40:\n",
    "                        print(\"Seu peso está acima do ideal (Obesidade II - severa). Seu IMC = {}.\".format(imc))\n",
    "                    else:\n",
    "                        print(\"Seu peso está acima do ideal (Obesidade III - mórbida). Seu IMC = {}.\".format(imc))\n",
    "                    "
   ]
  },
  {
   "cell_type": "markdown",
   "metadata": {},
   "source": [
    "Abaixo o mesmo programa usando **elif** ao invés de **if´s aninhados**."
   ]
  },
  {
   "cell_type": "code",
   "execution_count": 4,
   "metadata": {},
   "outputs": [
    {
     "name": "stdout",
     "output_type": "stream",
     "text": [
      "Digite seu peso: 120\n",
      "Digite sua altura: 1.80\n",
      "Seu peso está acima do ideal (Obesidade II - severa). Seu IMC = 37.03703703703704.\n"
     ]
    }
   ],
   "source": [
    "peso = float(input(\"Digite seu peso: \"))\n",
    "altura = float(input(\"Digite sua altura: \"))\n",
    "imc = peso / altura ** 2\n",
    "if imc < 17:\n",
    "    print(\"Seu peso está muito abaixo do ideal. Seu IMC = {}.\".format(imc))\n",
    "elif imc >= 17 and imc < 18.5:\n",
    "    print(\"Seu peso está abaixo do ideal. Seu IMC = {}.\".format(imc))\n",
    "elif imc >= 18.5 and imc < 25:\n",
    "    print(\"Seu peso está dentro da faixa ideal. Seu IMC = {}.\".format(imc))\n",
    "elif imc >= 25 and imc < 30:\n",
    "    print(\"Seu peso está acima do ideal. Seu IMC = {}.\".format(imc))\n",
    "elif imc >= 30 and imc < 35:\n",
    "    print(\"Seu peso está acima do ideal (Obesidade I). Seu IMC = {}.\".format(imc))\n",
    "elif imc >= 35 and imc < 40:\n",
    "    print(\"Seu peso está acima do ideal (Obesidade II - severa). Seu IMC = {}.\".format(imc))\n",
    "else:\n",
    "    print(\"Seu peso está acima do ideal (Obesidade III - mórbida). Seu IMC = {}.\".format(imc))"
   ]
  }
 ],
 "metadata": {
  "kernelspec": {
   "display_name": "Python 3",
   "language": "python",
   "name": "python3"
  }
 },
 "nbformat": 4,
 "nbformat_minor": 2
}
